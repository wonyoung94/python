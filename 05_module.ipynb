{
 "cells": [
  {
   "cell_type": "markdown",
   "id": "8ab32324-3645-46e4-adfc-74cbeadbb659",
   "metadata": {},
   "source": [
    "### 모듈"
   ]
  },
  {
   "cell_type": "code",
   "execution_count": 6,
   "id": "b9e2948d-b821-40ad-8312-301c1741824a",
   "metadata": {},
   "outputs": [],
   "source": [
    "import fibo #fibo 파일에 접근하고 싶어요."
   ]
  },
  {
   "cell_type": "code",
   "execution_count": 7,
   "id": "ad368be2-c48d-440d-8d95-98fca5431970",
   "metadata": {},
   "outputs": [
    {
     "name": "stdout",
     "output_type": "stream",
     "text": [
      "<module 'fibo' from 'C:\\\\Users\\\\user\\\\Desktop\\\\camp31\\\\python\\\\fibo.py'>\n"
     ]
    }
   ],
   "source": [
    "print(fibo) "
   ]
  },
  {
   "cell_type": "code",
   "execution_count": 8,
   "id": "011ce282-7991-44b3-a65c-f2176f8fabf4",
   "metadata": {},
   "outputs": [
    {
     "data": {
      "text/plain": [
       "89"
      ]
     },
     "execution_count": 8,
     "metadata": {},
     "output_type": "execute_result"
    }
   ],
   "source": [
    "fibo.fib_loop(10) #fibo라는 파일에서 fib_loop함수를 호출 해주세요."
   ]
  },
  {
   "cell_type": "code",
   "execution_count": 9,
   "id": "9da245a2-5542-4198-b26c-f11a414f1c31",
   "metadata": {},
   "outputs": [
    {
     "data": {
      "text/plain": [
       "8"
      ]
     },
     "execution_count": 9,
     "metadata": {},
     "output_type": "execute_result"
    }
   ],
   "source": [
    "fibo.fib_rec(5) #fibo라는 파일에 있는 fib_rec함수를 호출 해주세요."
   ]
  },
  {
   "cell_type": "code",
   "execution_count": 5,
   "id": "5d0f2920-520b-44b0-b6bf-b776b0ce8ba7",
   "metadata": {},
   "outputs": [
    {
     "ename": "AttributeError",
     "evalue": "module 'fibo' has no attribute 'fib_asdf'",
     "output_type": "error",
     "traceback": [
      "\u001b[1;31m---------------------------------------------------------------------------\u001b[0m",
      "\u001b[1;31mAttributeError\u001b[0m                            Traceback (most recent call last)",
      "Cell \u001b[1;32mIn[5], line 1\u001b[0m\n\u001b[1;32m----> 1\u001b[0m \u001b[43mfibo\u001b[49m\u001b[38;5;241;43m.\u001b[39;49m\u001b[43mfib_asdf\u001b[49m(\u001b[38;5;241m5\u001b[39m)\n",
      "\u001b[1;31mAttributeError\u001b[0m: module 'fibo' has no attribute 'fib_asdf'"
     ]
    }
   ],
   "source": [
    "fibo.fib_asdf(5)"
   ]
  },
  {
   "cell_type": "code",
   "execution_count": 10,
   "id": "356f09e8-115b-4cbb-92f2-ffafe7d71177",
   "metadata": {},
   "outputs": [],
   "source": [
    "# module 'fibo' has no attribute 'fib_asdf' : fibo라는 파일에는 'fib_asdf' 이런 함수는 없어요."
   ]
  },
  {
   "cell_type": "markdown",
   "id": "7f45a113-ce0c-4254-87a4-54ad1cb2c25e",
   "metadata": {},
   "source": [
    "# 패키지(모듈들의 집합)\n",
    "```\n",
    "myPackage/\n",
    "    __init__.py\n",
    "    math/\n",
    "        __init__.py\n",
    "        fibo.py\n",
    "        fomula.py\n",
    "```\n",
    "패키지 안에 `__init__.py` 파일이 있어야 패키지로 인식(내용은 없어도 OK)\n"
   ]
  },
  {
   "cell_type": "code",
   "execution_count": 14,
   "id": "16f706d7-7605-483c-bc97-00b2c0576ccd",
   "metadata": {},
   "outputs": [],
   "source": [
    "import myPackage"
   ]
  },
  {
   "cell_type": "code",
   "execution_count": 15,
   "id": "4999668f-13c5-4b79-8b31-1620eae32688",
   "metadata": {},
   "outputs": [
    {
     "name": "stdout",
     "output_type": "stream",
     "text": [
      "<module 'myPackage' from 'C:\\\\Users\\\\user\\\\Desktop\\\\camp31\\\\python\\\\myPackage\\\\__init__.py'>\n"
     ]
    }
   ],
   "source": [
    "print(myPackage)"
   ]
  },
  {
   "cell_type": "code",
   "execution_count": 16,
   "id": "4b0d9278-d538-48f1-8d7c-6508d4c47940",
   "metadata": {},
   "outputs": [],
   "source": [
    "from myPackage.math import fomula #특정 모듈의 경로를 알고 갖고 오고 싶은 모듈이 있을 경우"
   ]
  },
  {
   "cell_type": "code",
   "execution_count": 17,
   "id": "2dfe7ea0-c8c0-435a-bd86-341f104a2e5e",
   "metadata": {},
   "outputs": [
    {
     "data": {
      "text/plain": [
       "3.14"
      ]
     },
     "execution_count": 17,
     "metadata": {},
     "output_type": "execute_result"
    }
   ],
   "source": [
    "fomula.pi"
   ]
  },
  {
   "cell_type": "code",
   "execution_count": 18,
   "id": "406e6b95-0b18-40df-9afe-155069caf387",
   "metadata": {},
   "outputs": [
    {
     "data": {
      "text/plain": [
       "2"
      ]
     },
     "execution_count": 18,
     "metadata": {},
     "output_type": "execute_result"
    }
   ],
   "source": [
    "fomula.my_max(1,2)"
   ]
  },
  {
   "cell_type": "code",
   "execution_count": 20,
   "id": "c018685f-065c-4a20-8932-9b6c3cd59a9f",
   "metadata": {},
   "outputs": [
    {
     "data": {
      "text/plain": [
       "2"
      ]
     },
     "execution_count": 20,
     "metadata": {},
     "output_type": "execute_result"
    }
   ],
   "source": [
    "import myPackage\n",
    "\n",
    "myPackage.math.fomula.my_max(1,2) #모든 경로를 알고 있을 경우 바로 이렇게 가져올 수 있다."
   ]
  },
  {
   "cell_type": "code",
   "execution_count": 22,
   "id": "01d14c66-5717-4d00-8de5-60815bee6ad9",
   "metadata": {},
   "outputs": [
    {
     "name": "stdout",
     "output_type": "stream",
     "text": [
      "2\n",
      "3.14\n"
     ]
    }
   ],
   "source": [
    "import myPackage\n",
    "\n",
    "print(myPackage.math.fomula.my_max(1, 2))\n",
    "print(myPackage.math.fomula.pi)"
   ]
  },
  {
   "cell_type": "code",
   "execution_count": 27,
   "id": "fae70af0-0221-448f-9220-453671f7017b",
   "metadata": {},
   "outputs": [],
   "source": [
    "from myPackage.math.fibo import fib_loop\n",
    "#from myPackage.math.fibo import * : fibo에 있는 모든 함수를 다 들고 와달라는 의미\n",
    "#프로세스 과부하가 올 수 있으므로 조심해서 사용해야 함."
   ]
  },
  {
   "cell_type": "code",
   "execution_count": 24,
   "id": "925166c7-88f2-4879-b02f-13087319eeb9",
   "metadata": {},
   "outputs": [
    {
     "data": {
      "text/plain": [
       "8"
      ]
     },
     "execution_count": 24,
     "metadata": {},
     "output_type": "execute_result"
    }
   ],
   "source": [
    "fib_loop(5)"
   ]
  },
  {
   "cell_type": "code",
   "execution_count": 28,
   "id": "20f675d2-3cd6-4811-8ba8-e53782cacec3",
   "metadata": {},
   "outputs": [
    {
     "data": {
      "text/plain": [
       "5"
      ]
     },
     "execution_count": 28,
     "metadata": {},
     "output_type": "execute_result"
    }
   ],
   "source": [
    "fib_rec(4)"
   ]
  },
  {
   "cell_type": "code",
   "execution_count": 31,
   "id": "19557932-b555-4977-b611-cea49d107e33",
   "metadata": {},
   "outputs": [
    {
     "name": "stdout",
     "output_type": "stream",
     "text": [
      "1234\n",
      "<module 'myPackage.math.fomula' from 'C:\\\\Users\\\\user\\\\Desktop\\\\camp31\\\\python\\\\myPackage\\\\math\\\\fomula.py'>\n"
     ]
    }
   ],
   "source": [
    "fomula = 1234\n",
    "from myPackage.math import fomula as f\n",
    "\n",
    "print(fomula)\n",
    "print(f)"
   ]
  },
  {
   "cell_type": "code",
   "execution_count": 32,
   "id": "b1e2c885-20b2-4adb-b571-b6c631230aa3",
   "metadata": {},
   "outputs": [],
   "source": [
    "#모듈 내에 있는 변수와 내가 선언한 변수가 겹치는 경우, 모듈의 변수를 임시로 바꿀 수 있음.\n",
    "#코드를 줄이기 위해서 패키지의 변수를 일부 줄이는 경우가 있음."
   ]
  },
  {
   "cell_type": "markdown",
   "id": "a46b49dd-6fdb-4d0c-846b-38d07e59d3b5",
   "metadata": {},
   "source": [
    "## 파이썬 내장 패키지\n",
    "### math"
   ]
  },
  {
   "cell_type": "code",
   "execution_count": 35,
   "id": "1ff731a5-6eee-48b6-bfef-61454f92999c",
   "metadata": {},
   "outputs": [],
   "source": [
    "import math #파이썬 내장 패키지 math를 쓰고 싶어요"
   ]
  },
  {
   "cell_type": "code",
   "execution_count": 36,
   "id": "36b9a693-11ab-4056-ac27-6fec22554835",
   "metadata": {},
   "outputs": [
    {
     "data": {
      "text/plain": [
       "3.141592653589793"
      ]
     },
     "execution_count": 36,
     "metadata": {},
     "output_type": "execute_result"
    }
   ],
   "source": [
    "math.pi"
   ]
  },
  {
   "cell_type": "code",
   "execution_count": 37,
   "id": "eccdf70c-b8dc-4fb9-868c-c787ab20e4a0",
   "metadata": {},
   "outputs": [
    {
     "data": {
      "text/plain": [
       "2.718281828459045"
      ]
     },
     "execution_count": 37,
     "metadata": {},
     "output_type": "execute_result"
    }
   ],
   "source": [
    "math.e"
   ]
  },
  {
   "cell_type": "code",
   "execution_count": 38,
   "id": "2e6407ee-bd86-41ce-8e6b-a2d40d59a3a9",
   "metadata": {},
   "outputs": [],
   "source": [
    "pi = 3.141592"
   ]
  },
  {
   "cell_type": "code",
   "execution_count": 40,
   "id": "19bfcd2f-b300-43bc-81e9-2687cfd0ff47",
   "metadata": {},
   "outputs": [
    {
     "data": {
      "text/plain": [
       "4"
      ]
     },
     "execution_count": 40,
     "metadata": {},
     "output_type": "execute_result"
    }
   ],
   "source": [
    "math.ceil(pi) #소수점 올림"
   ]
  },
  {
   "cell_type": "code",
   "execution_count": 41,
   "id": "8c6bcd50-4515-482b-93ef-2d256d13ac52",
   "metadata": {},
   "outputs": [
    {
     "data": {
      "text/plain": [
       "3"
      ]
     },
     "execution_count": 41,
     "metadata": {},
     "output_type": "execute_result"
    }
   ],
   "source": [
    "math.floor(pi) #소수점 버림"
   ]
  },
  {
   "cell_type": "code",
   "execution_count": 42,
   "id": "40e9efb6-f707-4738-b7fc-462b78c0d23a",
   "metadata": {},
   "outputs": [
    {
     "data": {
      "text/plain": [
       "3.0"
      ]
     },
     "execution_count": 42,
     "metadata": {},
     "output_type": "execute_result"
    }
   ],
   "source": [
    "math.sqrt(9) #제곱근"
   ]
  },
  {
   "cell_type": "code",
   "execution_count": 45,
   "id": "2c871137-27b4-48c1-a2b1-4744be208772",
   "metadata": {},
   "outputs": [
    {
     "data": {
      "text/plain": [
       "3628800"
      ]
     },
     "execution_count": 45,
     "metadata": {},
     "output_type": "execute_result"
    }
   ],
   "source": [
    "math.factorial(10)"
   ]
  },
  {
   "cell_type": "code",
   "execution_count": 44,
   "id": "e1ba98de-b848-4b68-bf71-d1d9ce10deea",
   "metadata": {},
   "outputs": [],
   "source": [
    "#모든 함수를 외울 필요는 X, 패키지 사이트에 가서 검색해보고 함수가 필요할 때 쓸 수만 있으면 됨"
   ]
  },
  {
   "cell_type": "markdown",
   "id": "700aa608-142a-4e48-b214-12940d56f228",
   "metadata": {},
   "source": [
    "## random"
   ]
  },
  {
   "cell_type": "code",
   "execution_count": 56,
   "id": "a05e273b-dd30-4ba6-bc38-89f6c80abfd3",
   "metadata": {},
   "outputs": [],
   "source": [
    "# 완벽한 난수 생성기가 아님, 사람이 봤을때 랜덤해보임, 보안목적으로 사용하면 X"
   ]
  },
  {
   "cell_type": "code",
   "execution_count": 57,
   "id": "2c9f1f9d-7eb7-4dd8-b8e2-9472cac16a60",
   "metadata": {},
   "outputs": [],
   "source": [
    "import random"
   ]
  },
  {
   "cell_type": "code",
   "execution_count": 58,
   "id": "9b4ba585-4d4c-43ca-9888-aba824b03ff5",
   "metadata": {},
   "outputs": [
    {
     "data": {
      "text/plain": [
       "0.8474337369372327"
      ]
     },
     "execution_count": 58,
     "metadata": {},
     "output_type": "execute_result"
    }
   ],
   "source": [
    "random.random() # 0 ~ 1사이의 난수생성기"
   ]
  },
  {
   "cell_type": "code",
   "execution_count": 59,
   "id": "1e939bde-e834-406f-b79a-c24d416efddf",
   "metadata": {},
   "outputs": [
    {
     "data": {
      "text/plain": [
       "2"
      ]
     },
     "execution_count": 59,
     "metadata": {},
     "output_type": "execute_result"
    }
   ],
   "source": [
    "random.randint(1,10) # 1 ~ 10까지 임의의 정수 출력"
   ]
  },
  {
   "cell_type": "code",
   "execution_count": 60,
   "id": "df462d75-c5ef-4d3a-8cbd-77f9516c7641",
   "metadata": {},
   "outputs": [
    {
     "data": {
      "text/plain": [
       "0.13436424411240122"
      ]
     },
     "execution_count": 60,
     "metadata": {},
     "output_type": "execute_result"
    }
   ],
   "source": [
    "# seed...? 그럼 얘는 정확히 어떤 애지?\n",
    "random.seed(1)\n",
    "random.random()"
   ]
  },
  {
   "cell_type": "code",
   "execution_count": 63,
   "id": "d14a9789-b2aa-47ed-bdfa-a2f585518bc4",
   "metadata": {},
   "outputs": [
    {
     "name": "stdout",
     "output_type": "stream",
     "text": [
      "[1, 2, 3, 4, 5]\n",
      "[3, 4, 5, 1, 2]\n"
     ]
    }
   ],
   "source": [
    "a = [1, 2, 3, 4, 5]\n",
    "print(a)\n",
    "\n",
    "random.shuffle(a) # 순서를 무작위로 바꿔준다\n",
    "print(a)"
   ]
  },
  {
   "cell_type": "code",
   "execution_count": 65,
   "id": "c7e98ef8-c90c-4cdf-939b-bbc49d11bdc2",
   "metadata": {},
   "outputs": [
    {
     "data": {
      "text/plain": [
       "'바위'"
      ]
     },
     "execution_count": 65,
     "metadata": {},
     "output_type": "execute_result"
    }
   ],
   "source": [
    "rcp = ['가위', '바위', '보']\n",
    "random.choice(rcp) # 범위 내 데이터 중에서 랜덤한 데이터 하나를 추출"
   ]
  },
  {
   "cell_type": "code",
   "execution_count": 66,
   "id": "e3be401c-1ebe-465a-9d0e-b8c04b7f1adf",
   "metadata": {},
   "outputs": [
    {
     "data": {
      "text/plain": [
       "[39, 1, 29, 18, 15, 38]"
      ]
     },
     "execution_count": 66,
     "metadata": {},
     "output_type": "execute_result"
    }
   ],
   "source": [
    "random.sample(range(1,46),6) # choice와 같지만 중복 없이 추출 가능"
   ]
  },
  {
   "cell_type": "markdown",
   "id": "a9725c14-1a4d-4800-a2f0-e91846f34778",
   "metadata": {},
   "source": [
    "## datetime"
   ]
  },
  {
   "cell_type": "code",
   "execution_count": 70,
   "id": "9663a9b0-8710-4470-b802-85ce5d286e27",
   "metadata": {},
   "outputs": [],
   "source": [
    "from datetime import datetime #datetime 패키지에서 datetime 파일을 불러오고 싶어요."
   ]
  },
  {
   "cell_type": "code",
   "execution_count": 78,
   "id": "3742b230-0d3d-44f9-8c57-5101969b7908",
   "metadata": {},
   "outputs": [
    {
     "data": {
      "text/plain": [
       "datetime.datetime(2023, 10, 11, 10, 22, 47, 14356)"
      ]
     },
     "execution_count": 78,
     "metadata": {},
     "output_type": "execute_result"
    }
   ],
   "source": [
    "datetime.now()"
   ]
  },
  {
   "cell_type": "code",
   "execution_count": 79,
   "id": "90714205-ece8-4580-940c-cb968d187191",
   "metadata": {},
   "outputs": [
    {
     "data": {
      "text/plain": [
       "datetime.datetime(2023, 10, 11, 10, 22, 48, 570382)"
      ]
     },
     "execution_count": 79,
     "metadata": {},
     "output_type": "execute_result"
    }
   ],
   "source": [
    "datetime.today()"
   ]
  },
  {
   "cell_type": "code",
   "execution_count": 80,
   "id": "7da51812-6d67-4ce3-9827-0fee63e825e9",
   "metadata": {},
   "outputs": [
    {
     "name": "stdout",
     "output_type": "stream",
     "text": [
      "2023-10-11 10:22:50.226708\n"
     ]
    }
   ],
   "source": [
    "today = datetime.today() #객체 자체의 데이터\n",
    "print(today) # 사람들이 보기 편한 데이터로 바뀜"
   ]
  },
  {
   "cell_type": "code",
   "execution_count": 81,
   "id": "510fff87-7dbe-41af-a1b7-bcea974625a9",
   "metadata": {},
   "outputs": [
    {
     "data": {
      "text/plain": [
       "datetime.datetime(2023, 10, 11, 1, 23, 31, 314161)"
      ]
     },
     "execution_count": 81,
     "metadata": {},
     "output_type": "execute_result"
    }
   ],
   "source": [
    "datetime.utcnow() # 그리니티 천문대 기준 한국은 (UTC+9)"
   ]
  },
  {
   "cell_type": "code",
   "execution_count": 85,
   "id": "b01c0615-1312-4bd6-8bfa-9053691d0574",
   "metadata": {},
   "outputs": [
    {
     "data": {
      "text/plain": [
       "'2023/10/11'"
      ]
     },
     "execution_count": 85,
     "metadata": {},
     "output_type": "execute_result"
    }
   ],
   "source": [
    "now = datetime.now()\n",
    "now.strftime('%Y/%m/%d') # str / f / time : string format time 다양한 형식을 지정해줌"
   ]
  },
  {
   "cell_type": "code",
   "execution_count": 88,
   "id": "d44fa0aa-57a0-461d-9962-97c2806abac0",
   "metadata": {},
   "outputs": [
    {
     "data": {
      "text/plain": [
       "2023"
      ]
     },
     "execution_count": 88,
     "metadata": {},
     "output_type": "execute_result"
    }
   ],
   "source": [
    "now.year #오늘의 '해'를 출력해주세요."
   ]
  },
  {
   "cell_type": "code",
   "execution_count": 89,
   "id": "bd3ce87e-deb6-4d84-842d-bc0292556def",
   "metadata": {},
   "outputs": [
    {
     "data": {
      "text/plain": [
       "11"
      ]
     },
     "execution_count": 89,
     "metadata": {},
     "output_type": "execute_result"
    }
   ],
   "source": [
    "now.day # 오늘의 '일'을 출력해주세요."
   ]
  },
  {
   "cell_type": "code",
   "execution_count": 92,
   "id": "cb03f410-606f-424d-82ae-950daf00a009",
   "metadata": {},
   "outputs": [
    {
     "data": {
      "text/plain": [
       "2"
      ]
     },
     "execution_count": 92,
     "metadata": {},
     "output_type": "execute_result"
    }
   ],
   "source": [
    "# 0 ~ 6 : 월 ~ 일\n",
    "now.weekday() #오늘은 수요일"
   ]
  },
  {
   "cell_type": "code",
   "execution_count": 94,
   "id": "f7581311-4ca1-4a4d-a7bd-71a42711cb2b",
   "metadata": {},
   "outputs": [
    {
     "name": "stdout",
     "output_type": "stream",
     "text": [
      "2023-01-01 00:00:00\n"
     ]
    }
   ],
   "source": [
    "birth = datetime(2023, 1, 1)\n",
    "print(birth)"
   ]
  },
  {
   "cell_type": "code",
   "execution_count": 96,
   "id": "2ee85ba6-0bef-4bcf-a544-a4e9646e12bb",
   "metadata": {},
   "outputs": [],
   "source": [
    "from datetime import timedelta #datetime에서 timedelta 모듈을 불러와주세요."
   ]
  },
  {
   "cell_type": "code",
   "execution_count": 97,
   "id": "98962986-2ac5-4191-9a2a-71a64431e924",
   "metadata": {},
   "outputs": [
    {
     "name": "stdout",
     "output_type": "stream",
     "text": [
      "3 days, 0:00:00\n"
     ]
    }
   ],
   "source": [
    "future = timedelta(days = 3) #시간의 연산이 가능한 모듈 D-day 계산이 가능\n",
    "print(future)"
   ]
  },
  {
   "cell_type": "code",
   "execution_count": 98,
   "id": "6201a15e-f3ba-4d12-937c-add18e270d6d",
   "metadata": {},
   "outputs": [
    {
     "data": {
      "text/plain": [
       "datetime.datetime(2023, 1, 4, 0, 0)"
      ]
     },
     "execution_count": 98,
     "metadata": {},
     "output_type": "execute_result"
    }
   ],
   "source": [
    "birth + future"
   ]
  },
  {
   "cell_type": "code",
   "execution_count": 100,
   "id": "5e95279c-239e-4e82-974b-94a74f90c50d",
   "metadata": {},
   "outputs": [
    {
     "name": "stdout",
     "output_type": "stream",
     "text": [
      "81 days, 13:24:23.427515\n"
     ]
    }
   ],
   "source": [
    "new_year = datetime(2024, 1, 1)\n",
    "now = datetime.now()\n",
    "\n",
    "print(new_year - now)"
   ]
  },
  {
   "cell_type": "code",
   "execution_count": 102,
   "id": "9bd978e5-1e05-4516-bfc0-5e401f3ce920",
   "metadata": {},
   "outputs": [
    {
     "name": "stdout",
     "output_type": "stream",
     "text": [
      "2023-07-03 10:36:49.623777\n"
     ]
    }
   ],
   "source": [
    "now = datetime.now()\n",
    "f = timedelta (days = 100)\n",
    "\n",
    "print(now - f)"
   ]
  }
 ],
 "metadata": {
  "kernelspec": {
   "display_name": "Python 3 (ipykernel)",
   "language": "python",
   "name": "python3"
  },
  "language_info": {
   "codemirror_mode": {
    "name": "ipython",
    "version": 3
   },
   "file_extension": ".py",
   "mimetype": "text/x-python",
   "name": "python",
   "nbconvert_exporter": "python",
   "pygments_lexer": "ipython3",
   "version": "3.10.8"
  }
 },
 "nbformat": 4,
 "nbformat_minor": 5
}
