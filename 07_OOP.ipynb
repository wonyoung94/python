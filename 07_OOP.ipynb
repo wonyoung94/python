{
 "cells": [
  {
   "cell_type": "markdown",
   "id": "d2d886ce-ac12-4cee-abb7-eaacee1c002b",
   "metadata": {},
   "source": [
    "# 객체지향 프로그래밍(OOP)\n",
    "\n",
    "- 클래스(class) : 같은 종류의 집단에 속하는 속성(attribute)과 행위(method)를 **정의**한 것\n",
    "- 인스턴스(instance) : 클래스를 실제로 메모리상에 할당한 것\n",
    "- 속성(attribute) : 클래스 / 인스턴스가 가지고 있는 **데이터** / 값\n",
    "- 행위(method) : 클래스 / 인스턴스가 가지고 있는 **함수** / 기능 (클래스 안에 있는 것만 보통 method라고 표현)"
   ]
  },
  {
   "cell_type": "code",
   "execution_count": 1,
   "id": "84a4c63e-db61-4fed-94b9-4282aab514cf",
   "metadata": {},
   "outputs": [],
   "source": [
    "number = 1+1j"
   ]
  },
  {
   "cell_type": "code",
   "execution_count": 5,
   "id": "86e4b678-52c4-42fc-9840-30b0622a3d55",
   "metadata": {},
   "outputs": [
    {
     "data": {
      "text/plain": [
       "complex"
      ]
     },
     "execution_count": 5,
     "metadata": {},
     "output_type": "execute_result"
    }
   ],
   "source": [
    "type(number)"
   ]
  },
  {
   "cell_type": "code",
   "execution_count": 6,
   "id": "f31c32ab-4771-4c21-bb43-3fb8cd296323",
   "metadata": {},
   "outputs": [
    {
     "name": "stdout",
     "output_type": "stream",
     "text": [
      "1.0\n"
     ]
    }
   ],
   "source": [
    "print(number.real) # '.'을 통해 number가 가지고 있는 데이터(속성)에 접근하는 방법"
   ]
  },
  {
   "cell_type": "code",
   "execution_count": 9,
   "id": "5f0eb321-b94f-49ef-a0ac-02d47bf42cba",
   "metadata": {},
   "outputs": [
    {
     "name": "stdout",
     "output_type": "stream",
     "text": [
      "<class 'list'>\n",
      "[4, 3, 2, 1]\n"
     ]
    }
   ],
   "source": [
    "my_list = [1, 2, 3, 4]\n",
    "print(type(my_list))\n",
    "my_list.reverse() # '.'을 통해 my_list의 메소드(행위)에 접근\n",
    "print(my_list)"
   ]
  },
  {
   "cell_type": "code",
   "execution_count": 10,
   "id": "60fb2518-4c5a-4455-be28-1fb54cdba37c",
   "metadata": {},
   "outputs": [
    {
     "name": "stdout",
     "output_type": "stream",
     "text": [
      "핸드폰이 켜졌습니다.\n"
     ]
    }
   ],
   "source": [
    "power = False #핸드폰이 꺼져있어요\n",
    "number = '010-1234-1234' #핸드폰 번호는 '010-1234-1234'입니다.\n",
    "book = {\n",
    "    '홍길동': '010-1111-1111',\n",
    "    '이순신': '010-2222-2222',\n",
    "}\n",
    "\n",
    "def on():\n",
    "    global power\n",
    "    if power == False:\n",
    "        power = True\n",
    "        print('핸드폰이 켜졌습니다.')\n",
    "on() #핸드폰을 키는 함수를 만들어봤습니다."
   ]
  },
  {
   "cell_type": "code",
   "execution_count": 12,
   "id": "58918666-5037-4f3f-9eac-006428ce6e65",
   "metadata": {},
   "outputs": [],
   "source": [
    "# 핸드폰이 엄청 많다면? 그래서 필요한게 객체지향적 프로그래밍"
   ]
  },
  {
   "cell_type": "markdown",
   "id": "33615b83-5e98-49b4-85bf-4d74290c07a0",
   "metadata": {},
   "source": [
    "## class\n",
    "\n",
    "- 클래스 선언\n",
    "```python\n",
    "class ClassName:\n",
    "    attribute = value\n",
    "\n",
    "    def method_name(self):\n",
    "        code\n",
    "```\n",
    "- 인스턴스화\n",
    "\n",
    "```python\n",
    "ClassName()\n",
    "```"
   ]
  },
  {
   "cell_type": "code",
   "execution_count": 14,
   "id": "28952b21-1f26-47c8-8d26-d0fa3b0772ac",
   "metadata": {},
   "outputs": [],
   "source": [
    "# 선언\n",
    "class MyClass:\n",
    "    name = 'kim'\n",
    "\n",
    "    def hello(self):\n",
    "        return 'hello'"
   ]
  },
  {
   "cell_type": "code",
   "execution_count": 21,
   "id": "2e1107b7-6a08-487b-aad8-0c680105c775",
   "metadata": {},
   "outputs": [
    {
     "name": "stdout",
     "output_type": "stream",
     "text": [
      "<class '__main__.MyClass'>\n",
      "kim\n",
      "hello\n",
      "park\n",
      "hello\n"
     ]
    }
   ],
   "source": [
    "# 인스턴스화\n",
    "a = MyClass()\n",
    "print(type(a))\n",
    "\n",
    "print(a.name)\n",
    "print(a.hello())\n",
    "\n",
    "b = MyClass()\n",
    "b.name = 'park'\n",
    "\n",
    "print(b.name)\n",
    "print(b.hello())"
   ]
  },
  {
   "cell_type": "code",
   "execution_count": 47,
   "id": "c89becea-4591-4efe-9acd-aeede75b6dd0",
   "metadata": {},
   "outputs": [],
   "source": [
    "class Phone:\n",
    "    power = False\n",
    "    number = '010-0000-0000'\n",
    "    book = {}\n",
    "    model = ''\n",
    "\n",
    "    def on(self): #self : 인스턴스 자기 자신을 의미\n",
    "        if self.power == False:\n",
    "            self.power = True\n",
    "\n",
    "    def off(self):\n",
    "        if self.power == True:\n",
    "            self.power = False\n",
    "\n",
    "    def call(self, target):\n",
    "        if self.power == True:\n",
    "            print(f'제 번호는 {self.number} 입니다.')\n",
    "            print(f'{target}로 전화 거는중')\n",
    "        else:\n",
    "            print('핸드폰을 켜주세요')"
   ]
  },
  {
   "cell_type": "code",
   "execution_count": 48,
   "id": "37615bf7-1ac3-4830-bda9-8a227814fe9f",
   "metadata": {},
   "outputs": [],
   "source": [
    "my_phone = Phone()\n",
    "your_phone = Phone()"
   ]
  },
  {
   "cell_type": "code",
   "execution_count": 54,
   "id": "51db3db9-8c60-4bd2-9c77-fdbf57086d27",
   "metadata": {},
   "outputs": [
    {
     "name": "stdout",
     "output_type": "stream",
     "text": [
      "010-1234-1234\n",
      "010-0000-0000\n"
     ]
    }
   ],
   "source": [
    "my_phone.number = '010-1234-1234'\n",
    "print(my_phone.number)\n",
    "print(your_phone.number)"
   ]
  },
  {
   "cell_type": "code",
   "execution_count": 55,
   "id": "8965d1ee-b084-4dcf-b424-5e4166737b44",
   "metadata": {},
   "outputs": [
    {
     "name": "stdout",
     "output_type": "stream",
     "text": [
      "True\n",
      "True\n",
      "False\n",
      "True\n"
     ]
    }
   ],
   "source": [
    "my_phone.on()\n",
    "print(my_phone.power)\n",
    "print(your_phone.power)\n",
    "\n",
    "my_phone.off()\n",
    "print(my_phone.power)\n",
    "print(your_phone.power)"
   ]
  },
  {
   "cell_type": "code",
   "execution_count": 57,
   "id": "54e52421-8d10-4aa7-bbe9-d9640b235e35",
   "metadata": {},
   "outputs": [
    {
     "name": "stdout",
     "output_type": "stream",
     "text": [
      "제 번호는 010-1234-1234 입니다.\n",
      "112로 전화 거는중\n",
      "제 번호는 010-0000-0000 입니다.\n",
      "119로 전화 거는중\n"
     ]
    }
   ],
   "source": [
    "my_phone.on()\n",
    "my_phone.call('112')\n",
    "\n",
    "your_phone.on()\n",
    "your_phone.call('119')"
   ]
  },
  {
   "cell_type": "code",
   "execution_count": 83,
   "id": "65f72b95-2293-45ce-b3c3-d202329a8c3b",
   "metadata": {},
   "outputs": [],
   "source": [
    "# 연습 답\n",
    "class MyList:\n",
    "    data=[]\n",
    "\n",
    "    def append(self, item):\n",
    "        self.data = self.data + [item]\n",
    "\n",
    "\n",
    "    def pop(self):\n",
    "        result = self.data[-1]\n",
    "        self.data = self.data[:-1]\n",
    "        return result"
   ]
  },
  {
   "cell_type": "code",
   "execution_count": 72,
   "id": "6f90a2c8-3677-4659-8b03-1a1b3f50bd5c",
   "metadata": {},
   "outputs": [
    {
     "name": "stdout",
     "output_type": "stream",
     "text": [
      "[]\n"
     ]
    },
    {
     "data": {
      "text/plain": [
       "10"
      ]
     },
     "execution_count": 72,
     "metadata": {},
     "output_type": "execute_result"
    }
   ],
   "source": [
    "list_a = MyList()\n",
    "print(list_a.data) # => []\n",
    "\n",
    "list_a.append(5) # => [5]\n",
    "list_a.append(10) # => [5, 10]\n",
    "\n",
    "list_a.pop() # => [5]"
   ]
  },
  {
   "cell_type": "code",
   "execution_count": 85,
   "id": "c4a1686e-0c10-41c4-b062-99ba3ae47af0",
   "metadata": {},
   "outputs": [
    {
     "name": "stdout",
     "output_type": "stream",
     "text": [
      "[]\n",
      "[5]\n",
      "[5, 10]\n",
      "10\n",
      "[5]\n"
     ]
    }
   ],
   "source": [
    "list_a = MyList()\n",
    "print(list_a.data) # => []\n",
    "\n",
    "list_a.append(5) # => [5]\n",
    "print(list_a.data)\n",
    "list_a.append(10) # => [5, 10]\n",
    "print(list_a.data)\n",
    "\n",
    "# list_a.pop() # => [5]\n",
    "print(list_a.pop())\n",
    "print(list_a.data)"
   ]
  },
  {
   "cell_type": "code",
   "execution_count": 87,
   "id": "00361463-12fd-4229-9073-f1c0ba8e395f",
   "metadata": {},
   "outputs": [
    {
     "name": "stdout",
     "output_type": "stream",
     "text": [
      "['일', '이', '삼']\n"
     ]
    }
   ],
   "source": [
    "list_b = MyList()\n",
    "list_b.append('일')\n",
    "list_b.append('이')\n",
    "list_b.append('삼')\n",
    "print(list_b.data)"
   ]
  },
  {
   "cell_type": "markdown",
   "id": "1fc09b6e-58a9-4d68-89a1-dbd5aae187e0",
   "metadata": {},
   "source": [
    "## 생성자, 소멸자\n",
    "\n",
    "```python\n",
    "class Myclass:\n",
    "\n",
    "    def __init__(self):\n",
    "        pass\n",
    "\n",
    "    def __del__(self):\n",
    "        pass\n",
    "```"
   ]
  },
  {
   "cell_type": "code",
   "execution_count": 111,
   "id": "d7064ed7-e626-4dc1-9c06-54fe3318050b",
   "metadata": {},
   "outputs": [],
   "source": [
    "class Person:\n",
    "    name = 'noname'\n",
    "\n",
    "    def __init__(self, name='익명'):\n",
    "        self.name = name\n",
    "        print('생성됨')\n",
    "\n",
    "    def __del__(self):\n",
    "        print('소멸됨')"
   ]
  },
  {
   "cell_type": "code",
   "execution_count": 119,
   "id": "1f247248-9e4a-40fb-a193-a702d0294f55",
   "metadata": {},
   "outputs": [
    {
     "name": "stdout",
     "output_type": "stream",
     "text": [
      "생성됨\n",
      "<__main__.Person object at 0x000002188F419150>\n",
      "kim\n",
      "생성됨\n",
      "소멸됨\n",
      "park\n",
      "생성됨\n",
      "소멸됨\n",
      "익명\n",
      "noname\n",
      "010-1234-1234\n"
     ]
    }
   ],
   "source": [
    "p1 = Person('kim') # =>Person.__init__()\n",
    "print(p1)\n",
    "print(p1.name)\n",
    "\n",
    "p2 = Person('park')\n",
    "print(p2.name)\n",
    "\n",
    "p3 = Person()\n",
    "print(p3.name)\n",
    "\n",
    "print(Person.name)\n",
    "\n",
    "p1.phone = '010-1234-1234'\n",
    "print(p1.phone)"
   ]
  },
  {
   "cell_type": "code",
   "execution_count": 117,
   "id": "01e26bd8-45c7-4e14-91ad-5a50b0f2ee0a",
   "metadata": {},
   "outputs": [
    {
     "name": "stdout",
     "output_type": "stream",
     "text": [
      "소멸됨\n"
     ]
    }
   ],
   "source": [
    "del p1"
   ]
  },
  {
   "cell_type": "code",
   "execution_count": 118,
   "id": "06615462-b895-47bf-86a4-88b2dadc2c1b",
   "metadata": {},
   "outputs": [
    {
     "ename": "NameError",
     "evalue": "name 'p1' is not defined",
     "output_type": "error",
     "traceback": [
      "\u001b[1;31m---------------------------------------------------------------------------\u001b[0m",
      "\u001b[1;31mNameError\u001b[0m                                 Traceback (most recent call last)",
      "Cell \u001b[1;32mIn[118], line 1\u001b[0m\n\u001b[1;32m----> 1\u001b[0m \u001b[38;5;28mprint\u001b[39m(\u001b[43mp1\u001b[49m)\n",
      "\u001b[1;31mNameError\u001b[0m: name 'p1' is not defined"
     ]
    }
   ],
   "source": [
    "print(p1)"
   ]
  },
  {
   "cell_type": "code",
   "execution_count": 144,
   "id": "33da6f38-16f8-4506-a3ae-265c7a5458c3",
   "metadata": {},
   "outputs": [],
   "source": [
    "# Circle\n",
    "\n",
    "class Circle:\n",
    "    pi = 3.14\n",
    "\n",
    "    def __init__(self, r, x = 0, y = 0):\n",
    "        self.r = r\n",
    "        self.x = x\n",
    "        self.y = y\n",
    "\n",
    "    def area(self):\n",
    "        return self.pi * self.r ** 2\n",
    "\n",
    "    def move(self, x, y):\n",
    "        self.x = x\n",
    "        self.y = y\n",
    "        print(f'원의 중심이 {self.x},{self.y}로 이동했습니다.')\n",
    "\n",
    "    def center(self):\n",
    "        return (self.x, self.y)\n",
    "\n",
    "    def round(self):\n",
    "        return self.r * self.pi * 2\n",
    "        "
   ]
  },
  {
   "cell_type": "code",
   "execution_count": 145,
   "id": "3ac4d8ce-60e6-4c17-9b79-0a9367f0adbc",
   "metadata": {},
   "outputs": [
    {
     "name": "stdout",
     "output_type": "stream",
     "text": [
      "(5, 5)\n",
      "5\n",
      "28.26\n",
      "원의 중심이 0,0로 이동했습니다.\n",
      "(0, 0)\n",
      "10\n",
      "314.0\n",
      "원의 중심이 10,10로 이동했습니다.\n",
      "(0, 0)\n",
      "31.400000000000002\n"
     ]
    }
   ],
   "source": [
    "c1 = Circle(3, 5, 5)\n",
    "print(c1.center())\n",
    "print(c1.x)\n",
    "print(c1.area())\n",
    "c1.move(0, 0)\n",
    "print(c1.center())\n",
    "\n",
    "c2 = Circle(10, 0, 0)\n",
    "print(c2.r)\n",
    "print(c2.area())\n",
    "c1.move(10, 10)\n",
    "\n",
    "c3 = Circle(5)\n",
    "print(c3.center())\n",
    "print(c3.round())"
   ]
  },
  {
   "cell_type": "code",
   "execution_count": 187,
   "id": "0aa03076-3095-4632-8a9b-b57dd990e518",
   "metadata": {},
   "outputs": [],
   "source": [
    "# Point\n",
    "class Point:\n",
    "    def __init__(self, x, y):\n",
    "        self.x = x\n",
    "        self.y = y\n",
    "\n",
    "    def info(self):\n",
    "        return(self.x, self.y)\n",
    "\n",
    "# Cirle\n",
    "class Circle:\n",
    "    def __init__(self, point, r):\n",
    "        self.point = point\n",
    "        self.r = r\n",
    "\n",
    "    def info(self):\n",
    "        return (self.point.x, self.point.y, self.r)\n",
    "\n",
    "    def move(self, x, y):\n",
    "        self.point.x = x\n",
    "        self.point.y = y"
   ]
  },
  {
   "cell_type": "code",
   "execution_count": 188,
   "id": "f74a666c-607b-4e84-a27d-e9d50e9fd3ae",
   "metadata": {},
   "outputs": [
    {
     "name": "stdout",
     "output_type": "stream",
     "text": [
      "(3, 3)\n",
      "(3, 3)\n",
      "(3, 3, 10)\n",
      "(5, 5, 10)\n",
      "(5, 5)\n"
     ]
    }
   ],
   "source": [
    "p1 = Point(3,3)\n",
    "print(p1.info())\n",
    "\n",
    "c1 = Circle(p1, 10)\n",
    "print(c1.point.info())\n",
    "print(c1.info())\n",
    "c1.move(5,5)\n",
    "print(c1.info())\n",
    "print(p1.info())"
   ]
  },
  {
   "cell_type": "code",
   "execution_count": 189,
   "id": "073e5d7b-7ef9-4728-a865-cacf2434bf16",
   "metadata": {},
   "outputs": [
    {
     "name": "stdout",
     "output_type": "stream",
     "text": [
      "(5, 5, 5)\n"
     ]
    }
   ],
   "source": [
    "c2 = Circle(p1, 5)\n",
    "print(c2.info())"
   ]
  },
  {
   "cell_type": "markdown",
   "id": "4a42ea52-c3ef-4d55-8226-3fb91b357bcd",
   "metadata": {},
   "source": [
    "### 클래스변수\n",
    "- 클래스 선언 블록 최상단에 위치\n",
    "\n",
    "### 인스턴스변수\n",
    "- 인스턴스 내부에서 생성한 변수(self.variable= ')\n",
    "\n",
    "```python\n",
    "calss Myclass:\n",
    "    class_variable = '클래스변수'\n",
    "\n",
    "    def __init__(self, name):\n",
    "        self.instance_vaiable = '인스턴스변수'"
   ]
  },
  {
   "cell_type": "code",
   "execution_count": 190,
   "id": "d132653c-817e-475f-bcf5-7b3601b3aebc",
   "metadata": {},
   "outputs": [],
   "source": [
    "class Person:\n",
    "    name = '홍길동'\n",
    "    phone = '010-1234-1234'\n",
    "\n",
    "    def __init__(self,name):\n",
    "        self.name = name"
   ]
  },
  {
   "cell_type": "code",
   "execution_count": 191,
   "id": "189a193b-f4c0-45fb-819f-c899125c33a1",
   "metadata": {},
   "outputs": [
    {
     "name": "stdout",
     "output_type": "stream",
     "text": [
      "전원영\n",
      "홍길동\n",
      "010-1234-1234\n"
     ]
    }
   ],
   "source": [
    "p1 = Person('전원영')\n",
    "print(p1.name)\n",
    "print(Person.name)\n",
    "\n",
    "print(p1.phone)"
   ]
  },
  {
   "cell_type": "markdown",
   "id": "fd02ccdf-ee0b-4e29-b8b1-b3a642f5a539",
   "metadata": {},
   "source": [
    "### 클래스메소드, 인스턴스메소드, 스태틱메소드\n",
    "\n",
    "```python\n",
    "class Myclass:\n",
    "    def instance_method(self):\n",
    "        pass\n",
    "\n",
    "    @classmethod\n",
    "    def class_method(cls):\n",
    "        pass\n",
    "\n",
    "    @staticmethod\n",
    "    def static_method():\n",
    "        pass"
   ]
  },
  {
   "cell_type": "code",
   "execution_count": 199,
   "id": "31eb089c-7bb2-425b-8cb3-214dcdf25b78",
   "metadata": {},
   "outputs": [],
   "source": [
    "class MyClass:\n",
    "    def instance_method(self):\n",
    "        return self #return시 self인자 필요\n",
    "\n",
    "    @classmethod\n",
    "    def class_method(cls):\n",
    "        return cls # return시 cls인자 필요\n",
    "\n",
    "    @staticmethod\n",
    "    def static_method():\n",
    "        return 'hello' #return시 인자 필요 없음"
   ]
  },
  {
   "cell_type": "code",
   "execution_count": 201,
   "id": "1372b7bd-deb9-4d85-8aa7-199e178f4fb3",
   "metadata": {},
   "outputs": [
    {
     "name": "stdout",
     "output_type": "stream",
     "text": [
      "<__main__.MyClass object at 0x0000021890CC9600>\n",
      "<class '__main__.MyClass'>\n",
      "<class '__main__.MyClass'>\n",
      "hello\n"
     ]
    }
   ],
   "source": [
    "c = MyClass()\n",
    "\n",
    "print(c.instance_method())\n",
    "print(c.class_method())\n",
    "print(MyClass.class_method())\n",
    "print(c.static_method())"
   ]
  },
  {
   "cell_type": "code",
   "execution_count": 238,
   "id": "99504792-b898-4250-b4e4-92029d38aa02",
   "metadata": {},
   "outputs": [],
   "source": [
    "class Puppy:\n",
    "    num_of_puppy = 0\n",
    "\n",
    "    def __init__(self, name):\n",
    "        self.name = name\n",
    "        Puppy.num_of_puppy +=1\n",
    "\n",
    "    @classmethod # @가붙은건 decorator : 함수를 시작하기 전에 미리 시작하는 메소드\n",
    "    def get_status(cls):\n",
    "        print(f'현재 강아지는 {cls.num_of_puppy}마리입니다')\n",
    "\n",
    "    @staticmethod\n",
    "    def bark(msg):\n",
    "        return msg\n",
    "\n",
    "    def bark2(self, msg):\n",
    "        return f'{self.name}은 {msg}합니다.'"
   ]
  },
  {
   "cell_type": "code",
   "execution_count": 240,
   "id": "844ca03c-fc66-498b-9ae0-116c6d8eb757",
   "metadata": {},
   "outputs": [
    {
     "name": "stdout",
     "output_type": "stream",
     "text": [
      "3\n",
      "3\n",
      "현재 강아지는 3마리입니다\n",
      "멍멍\n",
      "그르릉\n",
      "인절미은 멍멍합니다.\n"
     ]
    }
   ],
   "source": [
    "p1 = Puppy('인절미')\n",
    "p2 = Puppy('백구')\n",
    "p3 = Puppy('흰둥이')\n",
    "\n",
    "print(Puppy.num_of_puppy)\n",
    "print(p1.num_of_puppy)\n",
    "\n",
    "Puppy.get_status()\n",
    "print(p1.bark('멍멍'))\n",
    "print(p2.bark('그르릉'))\n",
    "\n",
    "print(p1.bark2('멍멍'))"
   ]
  },
  {
   "cell_type": "markdown",
   "id": "fb6140d1-702f-4fdf-a80d-796a99fa2982",
   "metadata": {},
   "source": [
    "## 상속"
   ]
  },
  {
   "cell_type": "code",
   "execution_count": 241,
   "id": "b1c4eb70-b059-4fb3-b93d-a5b710774b6f",
   "metadata": {},
   "outputs": [],
   "source": [
    "class Person:\n",
    "\n",
    "    def __init__(self, name):\n",
    "        self.name = name\n",
    "\n",
    "    def greeting(self):\n",
    "        print(f'안녕하세요. {self.name}입니다.')"
   ]
  },
  {
   "cell_type": "code",
   "execution_count": 243,
   "id": "5074e5ad-7788-4035-9d74-32f27bff38be",
   "metadata": {},
   "outputs": [
    {
     "name": "stdout",
     "output_type": "stream",
     "text": [
      "안녕하세요. 홍길동입니다.\n"
     ]
    }
   ],
   "source": [
    "p1 = Person('홍길동')\n",
    "p2 = Person('이순신')\n",
    "\n",
    "p1.greeting()"
   ]
  },
  {
   "cell_type": "code",
   "execution_count": 246,
   "id": "f7001e02-ac82-43b6-9bab-bbae4f0aa41a",
   "metadata": {},
   "outputs": [],
   "source": [
    "class Student:\n",
    "\n",
    "    def __init__(self, name, student_id):\n",
    "        self.name = name\n",
    "        self.student_id = student_id\n",
    "\n",
    "    def greeting(self):\n",
    "        print(f'안녕하세요. {self.name}입니다.')"
   ]
  },
  {
   "cell_type": "code",
   "execution_count": 250,
   "id": "8ff9c991-6544-4348-b8db-f04cc59389f8",
   "metadata": {},
   "outputs": [
    {
     "name": "stdout",
     "output_type": "stream",
     "text": [
      "안녕하세요. 전원영입니다.\n"
     ]
    }
   ],
   "source": [
    "s1 = Student('전원영', '123456')\n",
    "s1.greeting()"
   ]
  },
  {
   "cell_type": "code",
   "execution_count": 251,
   "id": "f564840e-82b5-476a-9a12-657f8175723c",
   "metadata": {},
   "outputs": [],
   "source": [
    "class Soldier:\n",
    "\n",
    "    def __init__(self, name, soldier_id):\n",
    "        self.name = name\n",
    "        self.soldier_id = soldier_id\n",
    "\n",
    "    def greeting(self):\n",
    "        print(f'충성! {self.name}입니다.')"
   ]
  },
  {
   "cell_type": "code",
   "execution_count": 252,
   "id": "50803863-e9a2-4c87-a091-db4e8090c608",
   "metadata": {},
   "outputs": [
    {
     "name": "stdout",
     "output_type": "stream",
     "text": [
      "안녕하세요. 국방이입니다.\n"
     ]
    }
   ],
   "source": [
    "s2 = Student('국방이', '11-111111')\n",
    "s2.greeting()"
   ]
  },
  {
   "cell_type": "code",
   "execution_count": 259,
   "id": "8ab3f698-321e-4817-b500-119026435b7f",
   "metadata": {},
   "outputs": [],
   "source": [
    "class Student(Person):\n",
    "    # def __init__(self, name, student_id):\n",
    "    #     self.name = name\n",
    "\n",
    "    # def greeting(self):\n",
    "    #     print(f'안녕하세요. {self.name}입니다.')\n",
    "\n",
    "    def __init__(self, name, student_id):\n",
    "        self.name = name\n",
    "        self.student_id = student_id"
   ]
  },
  {
   "cell_type": "code",
   "execution_count": 262,
   "id": "ed804305-c8a7-421a-961b-aac18c96e78a",
   "metadata": {},
   "outputs": [
    {
     "name": "stdout",
     "output_type": "stream",
     "text": [
      "안녕하세요. 전원영입니다.\n"
     ]
    }
   ],
   "source": [
    "s1 = Student('전원영', '123456')\n",
    "s1.greeting()"
   ]
  },
  {
   "cell_type": "code",
   "execution_count": null,
   "id": "4f670dca-d2d2-4864-b667-e39bcd1749e3",
   "metadata": {},
   "outputs": [],
   "source": [
    "class Soldier(Person):\n",
    "    def __init__(self, name, soldier_id):\n",
    "        self.name = name\n",
    "        self.soldier_id = Soldier_id\n",
    "    def greeting(self):\n",
    "        print(f'충성! {self.name}입니다.')      "
   ]
  },
  {
   "cell_type": "code",
   "execution_count": 264,
   "id": "9f0a5c38-56c8-458c-9198-68fbdebc60b7",
   "metadata": {},
   "outputs": [],
   "source": [
    "class Person:\n",
    "    def __init__(self, name, email, phone, location):\n",
    "        self.name = name\n",
    "        self.email = email\n",
    "        self.phone = phone\n",
    "        self.location = location\n",
    "\n",
    "class Student(Person):\n",
    "    def __init__(self, name, email, phone, location, student_id):\n",
    "        self.name = name\n",
    "        self.email = email\n",
    "        self.phone = phone\n",
    "        self.location = location\n",
    "        self.student_id = student_id\n",
    "\n",
    "class Soldier(Person):\n",
    "    def __init__ (self, name, email, phone, location, soldier_id):\n",
    "        # super는 부모클래스(person)를 의미\n",
    "        super().__init__(self, name, email, phone, location) \n",
    "        self.soldier_id = soldier_id"
   ]
  },
  {
   "cell_type": "markdown",
   "id": "3de4ffc1-fca2-4a61-828e-cd4156c46f37",
   "metadata": {},
   "source": [
    "### 다중상속"
   ]
  },
  {
   "cell_type": "code",
   "execution_count": 265,
   "id": "69b1975e-7168-470f-ab41-f8383d810175",
   "metadata": {},
   "outputs": [],
   "source": [
    "class Person:\n",
    "    def __init__(self, name):\n",
    "        self.name = name\n",
    "\n",
    "    def breath(self):\n",
    "        print('후하')\n",
    "    "
   ]
  },
  {
   "cell_type": "code",
   "execution_count": 266,
   "id": "dc7d788a-d674-4a91-8bd6-70030a1d26ae",
   "metadata": {},
   "outputs": [],
   "source": [
    "class Mom(Person):\n",
    "    gene = 'xx'\n",
    "\n",
    "    def swim(self):\n",
    "        print('어푸어푸')"
   ]
  },
  {
   "cell_type": "code",
   "execution_count": 267,
   "id": "be05a916-064c-426d-84c5-67a121f69022",
   "metadata": {},
   "outputs": [],
   "source": [
    "class Dad(Person):\n",
    "    gene = 'xy'\n",
    "\n",
    "    def run(self):\n",
    "        print('다다다')"
   ]
  },
  {
   "cell_type": "code",
   "execution_count": 268,
   "id": "68ae8f8e-5ec3-4f66-b231-f71a8a2b6061",
   "metadata": {},
   "outputs": [],
   "source": [
    "class Baby(Dad, Mom):\n",
    "    pass"
   ]
  },
  {
   "cell_type": "code",
   "execution_count": 275,
   "id": "a7d9a2d2-0cae-48ac-90a5-b074032b2e67",
   "metadata": {},
   "outputs": [
    {
     "name": "stdout",
     "output_type": "stream",
     "text": [
      "금쪽이\n",
      "xy\n",
      "어푸어푸\n",
      "다다다\n",
      "후하\n"
     ]
    }
   ],
   "source": [
    "b = Baby('금쪽이')\n",
    "print(b.name)\n",
    "print(b.gene) #먼저 넣은 Dad의 gene을 상속, Baby(Mom,Dad)일 경우 xx 출력\n",
    "\n",
    "b.swim()\n",
    "b.run()\n",
    "b.breath()\n",
    "# 모두 가능"
   ]
  },
  {
   "cell_type": "code",
   "execution_count": null,
   "id": "a0c25fa2-4fb0-4262-a05b-10ff0cd77db8",
   "metadata": {},
   "outputs": [],
   "source": []
  },
  {
   "cell_type": "code",
   "execution_count": null,
   "id": "8d130765-4d0c-47c8-9910-89a3bbfed305",
   "metadata": {},
   "outputs": [],
   "source": []
  },
  {
   "cell_type": "code",
   "execution_count": null,
   "id": "f0c86b94-cb01-4cda-a769-0a1e17ea0983",
   "metadata": {},
   "outputs": [],
   "source": []
  },
  {
   "cell_type": "code",
   "execution_count": null,
   "id": "3679fa3a-a980-4fbc-a363-d55891ce23d4",
   "metadata": {},
   "outputs": [],
   "source": []
  },
  {
   "cell_type": "code",
   "execution_count": null,
   "id": "c244edf2-93aa-4873-a62b-046a74db85ec",
   "metadata": {},
   "outputs": [],
   "source": []
  },
  {
   "cell_type": "code",
   "execution_count": null,
   "id": "6d3fe069-308b-4d01-ba04-cfb14d0ac347",
   "metadata": {},
   "outputs": [],
   "source": []
  }
 ],
 "metadata": {
  "kernelspec": {
   "display_name": "Python 3 (ipykernel)",
   "language": "python",
   "name": "python3"
  },
  "language_info": {
   "codemirror_mode": {
    "name": "ipython",
    "version": 3
   },
   "file_extension": ".py",
   "mimetype": "text/x-python",
   "name": "python",
   "nbconvert_exporter": "python",
   "pygments_lexer": "ipython3",
   "version": "3.10.8"
  }
 },
 "nbformat": 4,
 "nbformat_minor": 5
}
