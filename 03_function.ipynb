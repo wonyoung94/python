{
 "cells": [
  {
   "cell_type": "markdown",
   "id": "fb6088e3-1f91-4edc-9573-22f1cb03c297",
   "metadata": {},
   "source": [
    "# 함수(Function)"
   ]
  },
  {
   "cell_type": "code",
   "execution_count": 3,
   "id": "badbf667-3c04-45fa-8ee2-c21223ba3f7d",
   "metadata": {},
   "outputs": [
    {
     "name": "stdout",
     "output_type": "stream",
     "text": [
      "직사각형의 면적은 200, 둘레는 60입니다.\n"
     ]
    }
   ],
   "source": [
    "height = 10\n",
    "width = 20\n",
    "\n",
    "height2 = 50\n",
    "width2 = 100\n",
    "\n",
    "area = height * width\n",
    "perimeter = (height + width) * 2\n",
    "print(f'직사각형의 면적은 {area}, 둘레는 {perimeter}입니다.')\n",
    "\n",
    "area2 = height2 * width2\n",
    "perimeter2 = (height2 + width2) * 2\n",
    "print(f'직사각형의 면적은 {area2}, 둘레는 {perimeter2}입니다.')"
   ]
  },
  {
   "cell_type": "markdown",
   "id": "10240dd8-3d50-4884-921f-bdc4ba24c916",
   "metadata": {},
   "source": [
    "## 함수의 선언과 호출\n",
    "\n",
    "- 함수의 선언 : def(define을 의미)\n",
    "```python\n",
    "def func_name(parameter1, parameter2):\n",
    "    code1\n",
    "    code2\n",
    "    ...\n",
    "    return value\n",
    "```\n",
    "\n",
    "\n",
    "- 함수의 호출(실행)\n",
    "```python\n",
    "func_name(parameter1, parameter2):\n",
    "```"
   ]
  },
  {
   "cell_type": "code",
   "execution_count": 10,
   "id": "94f15328-a83a-4298-87e3-8467aa47a5c0",
   "metadata": {},
   "outputs": [],
   "source": [
    "def rectangle(height, width):\n",
    "    area = height * width\n",
    "    perimeter = (height + width) * 2\n",
    "    print(area, perimeter)"
   ]
  },
  {
   "cell_type": "code",
   "execution_count": 9,
   "id": "40821c02-ad10-4d66-905e-88297da7deea",
   "metadata": {},
   "outputs": [
    {
     "name": "stdout",
     "output_type": "stream",
     "text": [
      "5000 300\n"
     ]
    }
   ],
   "source": [
    "rectangle(100,50)"
   ]
  },
  {
   "cell_type": "code",
   "execution_count": 12,
   "id": "e10d477f-d57c-4bb7-978f-5036218a7f13",
   "metadata": {},
   "outputs": [
    {
     "data": {
      "text/plain": [
       "['ArithmeticError',\n",
       " 'AssertionError',\n",
       " 'AttributeError',\n",
       " 'BaseException',\n",
       " 'BlockingIOError',\n",
       " 'BrokenPipeError',\n",
       " 'BufferError',\n",
       " 'BytesWarning',\n",
       " 'ChildProcessError',\n",
       " 'ConnectionAbortedError',\n",
       " 'ConnectionError',\n",
       " 'ConnectionRefusedError',\n",
       " 'ConnectionResetError',\n",
       " 'DeprecationWarning',\n",
       " 'EOFError',\n",
       " 'Ellipsis',\n",
       " 'EncodingWarning',\n",
       " 'EnvironmentError',\n",
       " 'Exception',\n",
       " 'False',\n",
       " 'FileExistsError',\n",
       " 'FileNotFoundError',\n",
       " 'FloatingPointError',\n",
       " 'FutureWarning',\n",
       " 'GeneratorExit',\n",
       " 'IOError',\n",
       " 'ImportError',\n",
       " 'ImportWarning',\n",
       " 'IndentationError',\n",
       " 'IndexError',\n",
       " 'InterruptedError',\n",
       " 'IsADirectoryError',\n",
       " 'KeyError',\n",
       " 'KeyboardInterrupt',\n",
       " 'LookupError',\n",
       " 'MemoryError',\n",
       " 'ModuleNotFoundError',\n",
       " 'NameError',\n",
       " 'None',\n",
       " 'NotADirectoryError',\n",
       " 'NotImplemented',\n",
       " 'NotImplementedError',\n",
       " 'OSError',\n",
       " 'OverflowError',\n",
       " 'PendingDeprecationWarning',\n",
       " 'PermissionError',\n",
       " 'ProcessLookupError',\n",
       " 'RecursionError',\n",
       " 'ReferenceError',\n",
       " 'ResourceWarning',\n",
       " 'RuntimeError',\n",
       " 'RuntimeWarning',\n",
       " 'StopAsyncIteration',\n",
       " 'StopIteration',\n",
       " 'SyntaxError',\n",
       " 'SyntaxWarning',\n",
       " 'SystemError',\n",
       " 'SystemExit',\n",
       " 'TabError',\n",
       " 'TimeoutError',\n",
       " 'True',\n",
       " 'TypeError',\n",
       " 'UnboundLocalError',\n",
       " 'UnicodeDecodeError',\n",
       " 'UnicodeEncodeError',\n",
       " 'UnicodeError',\n",
       " 'UnicodeTranslateError',\n",
       " 'UnicodeWarning',\n",
       " 'UserWarning',\n",
       " 'ValueError',\n",
       " 'Warning',\n",
       " 'WindowsError',\n",
       " 'ZeroDivisionError',\n",
       " '__IPYTHON__',\n",
       " '__build_class__',\n",
       " '__debug__',\n",
       " '__doc__',\n",
       " '__import__',\n",
       " '__loader__',\n",
       " '__name__',\n",
       " '__package__',\n",
       " '__spec__',\n",
       " 'abs',\n",
       " 'aiter',\n",
       " 'all',\n",
       " 'anext',\n",
       " 'any',\n",
       " 'ascii',\n",
       " 'bin',\n",
       " 'bool',\n",
       " 'breakpoint',\n",
       " 'bytearray',\n",
       " 'bytes',\n",
       " 'callable',\n",
       " 'chr',\n",
       " 'classmethod',\n",
       " 'compile',\n",
       " 'complex',\n",
       " 'copyright',\n",
       " 'credits',\n",
       " 'delattr',\n",
       " 'dict',\n",
       " 'dir',\n",
       " 'display',\n",
       " 'divmod',\n",
       " 'enumerate',\n",
       " 'eval',\n",
       " 'exec',\n",
       " 'execfile',\n",
       " 'filter',\n",
       " 'float',\n",
       " 'format',\n",
       " 'frozenset',\n",
       " 'get_ipython',\n",
       " 'getattr',\n",
       " 'globals',\n",
       " 'hasattr',\n",
       " 'hash',\n",
       " 'help',\n",
       " 'hex',\n",
       " 'id',\n",
       " 'input',\n",
       " 'int',\n",
       " 'isinstance',\n",
       " 'issubclass',\n",
       " 'iter',\n",
       " 'len',\n",
       " 'license',\n",
       " 'list',\n",
       " 'locals',\n",
       " 'map',\n",
       " 'max',\n",
       " 'memoryview',\n",
       " 'min',\n",
       " 'next',\n",
       " 'object',\n",
       " 'oct',\n",
       " 'open',\n",
       " 'ord',\n",
       " 'pow',\n",
       " 'print',\n",
       " 'property',\n",
       " 'range',\n",
       " 'repr',\n",
       " 'reversed',\n",
       " 'round',\n",
       " 'runfile',\n",
       " 'set',\n",
       " 'setattr',\n",
       " 'slice',\n",
       " 'sorted',\n",
       " 'staticmethod',\n",
       " 'str',\n",
       " 'sum',\n",
       " 'super',\n",
       " 'tuple',\n",
       " 'type',\n",
       " 'vars',\n",
       " 'zip']"
      ]
     },
     "execution_count": 12,
     "metadata": {},
     "output_type": "execute_result"
    }
   ],
   "source": [
    "dir(__builtins__)"
   ]
  },
  {
   "cell_type": "code",
   "execution_count": 13,
   "id": "397f029e-b41f-4466-acd5-948e8efbb918",
   "metadata": {},
   "outputs": [
    {
     "data": {
      "text/plain": [
       "6"
      ]
     },
     "execution_count": 13,
     "metadata": {},
     "output_type": "execute_result"
    }
   ],
   "source": [
    "max(1,3,5,6)"
   ]
  },
  {
   "cell_type": "code",
   "execution_count": 22,
   "id": "16a6120b-6c84-40c6-a67e-9f3c24fea173",
   "metadata": {},
   "outputs": [],
   "source": [
    "# 두개의 정수를 받아서 큰 수를 출력\n",
    "def my_max(num1, num2):\n",
    "    if num1 > num2:\n",
    "        print (f'{num1} 이(가) 큽니다.')\n",
    "    elif num2 > num1:\n",
    "        print (f'{num2} 이(가) 큽니다.')\n",
    "    else:\n",
    "        print ('두 수가 같습니다.')\n",
    "        \n",
    "    #return None"
   ]
  },
  {
   "cell_type": "code",
   "execution_count": 30,
   "id": "33530521-00cb-47b2-922f-7ad0180b6cd9",
   "metadata": {},
   "outputs": [
    {
     "name": "stdout",
     "output_type": "stream",
     "text": [
      "2 이(가) 큽니다.\n",
      "두 수가 같습니다.\n",
      "None\n"
     ]
    }
   ],
   "source": [
    "my_max(1,2)\n",
    "a = my_max(5,5)\n",
    "print(a)"
   ]
  },
  {
   "cell_type": "markdown",
   "id": "8e41e1bf-7ee8-4b64-a97b-87745d23b389",
   "metadata": {},
   "source": [
    "## 함수의 return\n",
    "\n",
    "- 함수가 return을 만나면 해당 값을 반환하고 함수를 종료\n",
    "- 만약 return이 없다면 None을 자동으로 반환\n",
    "- return은 오직 하나의 객체만 반환\n",
    "\n",
    "return과 print의 차이\n",
    "\n",
    "return : 함수의 결과 - 실질적인 Output에 해당\n",
    "print : 함수값을 출력 - 하나의 함수로 취급됨\n"
   ]
  },
  {
   "cell_type": "code",
   "execution_count": 26,
   "id": "c0f715ce-3e3d-4e36-b39a-bd47c4b73c58",
   "metadata": {},
   "outputs": [],
   "source": [
    "def my_max2(num1, num2):\n",
    "    # return 'hello'\n",
    "    \n",
    "    if num1 > num2:\n",
    "        return num1\n",
    "    elif num2 > num1:\n",
    "        return num2\n",
    "    else:\n",
    "        return num1"
   ]
  },
  {
   "cell_type": "code",
   "execution_count": 29,
   "id": "41c57f3a-89f7-4b7e-a947-338506b9b8e4",
   "metadata": {},
   "outputs": [],
   "source": [
    "a = my_max2(1,2)"
   ]
  },
  {
   "cell_type": "code",
   "execution_count": 38,
   "id": "b4e7a500-cb0e-49ed-880b-b87e063cc59b",
   "metadata": {},
   "outputs": [],
   "source": [
    "def my_list_max(list1, list2):\n",
    "\n",
    "    if sum(list1) > sum(list2):\n",
    "        return sum(list1)\n",
    "    else:\n",
    "        return list2"
   ]
  },
  {
   "cell_type": "code",
   "execution_count": 39,
   "id": "8e220bf5-e3f7-441d-9eff-39cc2f273edd",
   "metadata": {},
   "outputs": [
    {
     "data": {
      "text/plain": [
       "6"
      ]
     },
     "execution_count": 39,
     "metadata": {},
     "output_type": "execute_result"
    }
   ],
   "source": [
    "my_list_max([1, 2, 3],[1, 2,])"
   ]
  },
  {
   "cell_type": "code",
   "execution_count": 40,
   "id": "ddfd7530-fa47-463a-b932-264285d945f4",
   "metadata": {},
   "outputs": [],
   "source": [
    "def my_def(x):\n",
    "    return x * 2"
   ]
  },
  {
   "cell_type": "code",
   "execution_count": 45,
   "id": "566a3a4e-fcb1-44b4-b4cc-c7e57cc62181",
   "metadata": {},
   "outputs": [
    {
     "name": "stdout",
     "output_type": "stream",
     "text": [
      "10\n"
     ]
    }
   ],
   "source": [
    "a = my_def(5)\n",
    "print(a)"
   ]
  },
  {
   "cell_type": "code",
   "execution_count": 42,
   "id": "4e76367c-b96e-402c-9f75-b238257ebde0",
   "metadata": {},
   "outputs": [],
   "source": [
    "def my_def2(x):\n",
    "    print(x*2)"
   ]
  },
  {
   "cell_type": "code",
   "execution_count": 46,
   "id": "1e9200d0-1391-4fa6-903d-1ca2cf968043",
   "metadata": {},
   "outputs": [
    {
     "name": "stdout",
     "output_type": "stream",
     "text": [
      "10\n",
      "None\n"
     ]
    }
   ],
   "source": [
    "a = my_def2(5)\n",
    "print(a)"
   ]
  },
  {
   "cell_type": "markdown",
   "id": "266ca701-974c-4326-8411-c47dd140389d",
   "metadata": {},
   "source": [
    "## 함수의 인수\n",
    "\n",
    "### 위치인수\n",
    "기본적으로 함수는 인수의 위치로 판단합니다."
   ]
  },
  {
   "cell_type": "code",
   "execution_count": 47,
   "id": "40a6968f-f49b-44a0-a9fb-97cb4225f9a8",
   "metadata": {},
   "outputs": [],
   "source": [
    "def cylinder(r, h):\n",
    "    return 3.14* r**2 * h"
   ]
  },
  {
   "cell_type": "code",
   "execution_count": 54,
   "id": "7abc969d-3bdb-4bf1-aa86-e99b5010bd38",
   "metadata": {},
   "outputs": [
    {
     "name": "stdout",
     "output_type": "stream",
     "text": [
      "1570.0\n",
      "785.0\n"
     ]
    }
   ],
   "source": [
    "print(cylinder(10,5))\n",
    "print(cylinder(5,10))"
   ]
  },
  {
   "cell_type": "markdown",
   "id": "f2b85b1d-fee8-47d5-8a0c-020bcd8dcafc",
   "metadata": {},
   "source": [
    "### 기본값\n",
    "\n",
    "```python\n",
    "def func(p1=v1):\n",
    "    code...\n",
    "    return p1\n",
    "```"
   ]
  },
  {
   "cell_type": "code",
   "execution_count": 60,
   "id": "66a3c5bf-2eca-4667-a262-63b84bdd97fd",
   "metadata": {},
   "outputs": [],
   "source": [
    "def greeting(name='익명'):\n",
    "    return f'{name}님 안녕하세요!!'"
   ]
  },
  {
   "cell_type": "code",
   "execution_count": 61,
   "id": "9d9de97c-a50c-42f5-aee6-aa52396e6358",
   "metadata": {},
   "outputs": [
    {
     "data": {
      "text/plain": [
       "'원영님 안녕하세요!!'"
      ]
     },
     "execution_count": 61,
     "metadata": {},
     "output_type": "execute_result"
    }
   ],
   "source": [
    "greeting('원영')"
   ]
  },
  {
   "cell_type": "code",
   "execution_count": 63,
   "id": "3b7e640e-c2a0-4905-a01d-db8344b41b6f",
   "metadata": {},
   "outputs": [
    {
     "data": {
      "text/plain": [
       "'익명님 안녕하세요!!'"
      ]
     },
     "execution_count": 63,
     "metadata": {},
     "output_type": "execute_result"
    }
   ],
   "source": [
    "greeting()"
   ]
  },
  {
   "cell_type": "code",
   "execution_count": 66,
   "id": "061962f1-8b9c-418b-8872-4bfd7cf0e9c0",
   "metadata": {},
   "outputs": [
    {
     "name": "stdout",
     "output_type": "stream",
     "text": [
      "hello?????world\n"
     ]
    }
   ],
   "source": [
    "#print(*objects, sep=' ', end='\\n', file=None, flush=False)\n",
    "print('hello','world', sep = \"?????\")\n"
   ]
  },
  {
   "cell_type": "code",
   "execution_count": 68,
   "id": "cb351f29-9995-4333-bf98-fd6083bc9aee",
   "metadata": {},
   "outputs": [],
   "source": [
    "def greeting(age, name='익명'):\n",
    "    return f'{name}님 은 {age}살 입니다.'\n",
    "#기본값이 없는 인자를 먼저 써주고, 기본값이 있는 인자는 뒤에 나와야 한다. "
   ]
  },
  {
   "cell_type": "code",
   "execution_count": 71,
   "id": "b76601c5-3ad2-4096-83ed-0ef44f634fd8",
   "metadata": {},
   "outputs": [
    {
     "name": "stdout",
     "output_type": "stream",
     "text": [
      "홍길동님 은 50살 입니다.\n",
      "익명님 은 10살 입니다.\n"
     ]
    }
   ],
   "source": [
    "print(greeting(50,'홍길동'))\n",
    "print(greeting(10))"
   ]
  },
  {
   "cell_type": "markdown",
   "id": "00b6e47b-5a87-49ce-abee-0f262b1b031b",
   "metadata": {},
   "source": [
    "### 키워드 인자\n",
    "함수를 호출(실행)할 때 내가 원하는 위치에 직접적으로 특정인자를 전달 가능"
   ]
  },
  {
   "cell_type": "code",
   "execution_count": 72,
   "id": "df953c85-39be-40e7-a846-80dacde54113",
   "metadata": {},
   "outputs": [
    {
     "name": "stdout",
     "output_type": "stream",
     "text": [
      "홍길동님 은 50살 입니다.\n",
      "익명님 은 10살 입니다.\n",
      "홍길동님 은 30살 입니다.\n"
     ]
    }
   ],
   "source": [
    "print(greeting(50,'홍길동'))\n",
    "print(greeting(10))\n",
    "print(greeting(name = '홍길동', age = 30))"
   ]
  },
  {
   "cell_type": "markdown",
   "id": "077d2a46-a02d-4fa8-9cda-590f6955bd96",
   "metadata": {},
   "source": [
    "### 가변 인자 리스트\n",
    "\n",
    "인자의 갯수를 특정할 수 없는 경우에 튜플 형태로 처리\n",
    "```python\n",
    "def func(*parms):\n",
    "    code\n",
    "    ...\n",
    "```"
   ]
  },
  {
   "cell_type": "code",
   "execution_count": 74,
   "id": "6b08cefe-b850-4482-859e-5b6a676a5f28",
   "metadata": {},
   "outputs": [],
   "source": [
    "def my_print(*words):\n",
    "    print(words)"
   ]
  },
  {
   "cell_type": "code",
   "execution_count": 75,
   "id": "12f28883-eecc-4b83-8211-fe598b4cb314",
   "metadata": {},
   "outputs": [
    {
     "name": "stdout",
     "output_type": "stream",
     "text": [
      "('a', 'b', 'c', 'b')\n"
     ]
    }
   ],
   "source": [
    "my_print('a', 'b', 'c', 'b')"
   ]
  },
  {
   "cell_type": "code",
   "execution_count": 76,
   "id": "ec74dd91-c16d-480c-966f-bb8b234b842d",
   "metadata": {},
   "outputs": [
    {
     "name": "stdout",
     "output_type": "stream",
     "text": [
      "a공간b공간c공간d\n"
     ]
    }
   ],
   "source": [
    "print('a', 'b', 'c', 'd', sep='공간')\n",
    "#기본값이 있는 데이터는 무조건 인자의 내용을 작성 해줘야 한다."
   ]
  },
  {
   "cell_type": "code",
   "execution_count": 77,
   "id": "49a0f32f-a736-4323-a93f-34937361b5bb",
   "metadata": {},
   "outputs": [
    {
     "data": {
      "text/plain": [
       "7"
      ]
     },
     "execution_count": 77,
     "metadata": {},
     "output_type": "execute_result"
    }
   ],
   "source": [
    "max(1, 2, 3, 4, 5, 6, 7)"
   ]
  },
  {
   "cell_type": "code",
   "execution_count": 106,
   "id": "0c4d2347-96ae-4ddd-933b-b9bcf8139009",
   "metadata": {},
   "outputs": [],
   "source": [
    "# 여러개의 숫자를 받아 구 중 가장 큰 수를 리턴\n",
    "def my_max(*numbers):\n",
    "    numbers_list = list(numbers)\n",
    "    numbers_list.sort()\n",
    "    return numbers_list[0]"
   ]
  },
  {
   "cell_type": "code",
   "execution_count": 107,
   "id": "5de3b40b-47ba-4913-ba65-380ce4a606d2",
   "metadata": {},
   "outputs": [
    {
     "data": {
      "text/plain": [
       "-5"
      ]
     },
     "execution_count": 107,
     "metadata": {},
     "output_type": "execute_result"
    }
   ],
   "source": [
    "my_max(1, 2, 3, 4, 5)\n",
    "my_max(-1, -2, -3, -4, -5)"
   ]
  },
  {
   "cell_type": "code",
   "execution_count": 103,
   "id": "82030564-559a-42a2-804d-4ec61090fa3b",
   "metadata": {},
   "outputs": [],
   "source": [
    "# 여러개의 숫자를 받아 구 중 가장 큰 수를 리턴\n",
    "def my_max(*numbers):\n",
    "    result = [0]\n",
    "\n",
    "    for number in numbers:\n",
    "        if result < number:\n",
    "            result = number\n",
    "\n",
    "    return result"
   ]
  },
  {
   "cell_type": "markdown",
   "id": "1300eac8-a9d9-413f-96db-de8fc5e2a680",
   "metadata": {},
   "source": [
    "### 정의되지 않은 키워드 인자 처리하기\n",
    "\n",
    "```python\n",
    "def func(**kwargs):\n",
    "    code\n",
    "    ...\n",
    "```"
   ]
  },
  {
   "cell_type": "code",
   "execution_count": 108,
   "id": "f5efc839-749b-4b2f-b5d8-80c499699f88",
   "metadata": {},
   "outputs": [
    {
     "name": "stdout",
     "output_type": "stream",
     "text": [
      "{'name': 'hong', 'age': 10}\n"
     ]
    }
   ],
   "source": [
    "info = {\n",
    "    'name': 'hong',\n",
    "    'age': 10,\n",
    "}\n",
    "print(info)"
   ]
  },
  {
   "cell_type": "code",
   "execution_count": 109,
   "id": "e417dd5a-7325-4506-850f-db8db3d77a3d",
   "metadata": {},
   "outputs": [
    {
     "name": "stdout",
     "output_type": "stream",
     "text": [
      "{'name': 'hong', 'age': 20}\n"
     ]
    }
   ],
   "source": [
    "info = dict(name='hong', age=20)\n",
    "print(info)"
   ]
  },
  {
   "cell_type": "code",
   "execution_count": 127,
   "id": "c309bf8e-c95b-4033-9da6-d9aecf349aea",
   "metadata": {},
   "outputs": [],
   "source": [
    "def fake_dict(**kwargs): \n",
    "#**변수 : 어떤 인자가 얼마나 들어올 지 모를 때 씀\n",
    "    for key, value in kwargs.items():\n",
    "        print(f'{key}는 {value}입니다.')"
   ]
  },
  {
   "cell_type": "code",
   "execution_count": 128,
   "id": "07609698-6358-4a00-bc3e-1dc814fd8fc2",
   "metadata": {},
   "outputs": [
    {
     "name": "stdout",
     "output_type": "stream",
     "text": [
      "a는 10입니다.\n",
      "b는 20입니다.\n",
      "korean는 안녕입니다.\n",
      "english는 hello입니다.\n"
     ]
    }
   ],
   "source": [
    "fake_dict(a=10, b=20)\n",
    "fake_dict(korean='안녕', english='hello')"
   ]
  },
  {
   "cell_type": "markdown",
   "id": "69bc7e31-14b6-43f8-9940-455a87c2832a",
   "metadata": {},
   "source": [
    "### dictionary를 인자로 넣기(unpacking)"
   ]
  },
  {
   "cell_type": "code",
   "execution_count": 113,
   "id": "28f92ac8-8792-44d7-9cb1-ac423e3d3f25",
   "metadata": {},
   "outputs": [],
   "source": [
    "def sign_up(id, pw, pw_confirmation):\n",
    "    if pw == pw_confirmation:\n",
    "        print(f'{id}님 회원가입이 완료되었습니다.')\n",
    "    else:\n",
    "        print('비밀번호가 일치하지 않습니다.')"
   ]
  },
  {
   "cell_type": "code",
   "execution_count": 114,
   "id": "c0430d8f-8015-48c5-bba6-e3866ff210c9",
   "metadata": {},
   "outputs": [
    {
     "name": "stdout",
     "output_type": "stream",
     "text": [
      "change님 회원가입이 완료되었습니다.\n",
      "비밀번호가 일치하지 않습니다.\n"
     ]
    }
   ],
   "source": [
    "sign_up('change', '1234', '1234')\n",
    "sign_up('change', '1234', '12345')"
   ]
  },
  {
   "cell_type": "code",
   "execution_count": 122,
   "id": "37f25906-b2c9-49db-b9e2-899256d32c87",
   "metadata": {},
   "outputs": [
    {
     "name": "stdout",
     "output_type": "stream",
     "text": [
      "change님 회원가입이 완료되었습니다.\n"
     ]
    }
   ],
   "source": [
    "account = {\n",
    "    'id': 'change',\n",
    "    'pw': '1234',\n",
    "    'pw_confirmation': '1234',\n",
    "    \n",
    "}\n",
    "sign_up(**account)"
   ]
  },
  {
   "cell_type": "markdown",
   "id": "9a739729-ef7d-45f0-8fcd-811de82ccf73",
   "metadata": {},
   "source": [
    "### lambda 표현식\n",
    "- 이름이 없는 익명함수, 일회용 함수\n",
    "```python\n",
    "lambda parameter: expression\n",
    "```"
   ]
  },
  {
   "cell_type": "code",
   "execution_count": 126,
   "id": "117a20b8-baac-403b-8d34-b6826ea9abb4",
   "metadata": {},
   "outputs": [
    {
     "data": {
      "text/plain": [
       "3"
      ]
     },
     "execution_count": 126,
     "metadata": {},
     "output_type": "execute_result"
    }
   ],
   "source": [
    "(lambda x, y: x + y)(1, 2)"
   ]
  },
  {
   "cell_type": "code",
   "execution_count": 125,
   "id": "dfb89fd7-fd4e-4d22-8556-bc5837d6b43b",
   "metadata": {},
   "outputs": [
    {
     "data": {
      "text/plain": [
       "3"
      ]
     },
     "execution_count": 125,
     "metadata": {},
     "output_type": "execute_result"
    }
   ],
   "source": [
    "def my_sum(x, y):\n",
    "    return x + y\n",
    "\n",
    "my_sum(1,2)"
   ]
  },
  {
   "cell_type": "markdown",
   "id": "1fa5c675-8d8c-492f-b5a9-9be0815bb3ec",
   "metadata": {},
   "source": [
    "### 타입힌트\n",
    "- 최근에 나온 문법\n",
    "- 그냥 설명만 해주는거 뿐이고 함수 자체가 변동되지는 X"
   ]
  },
  {
   "cell_type": "code",
   "execution_count": 131,
   "id": "feeeeee1-86ab-4eab-95b0-f215f9f3787c",
   "metadata": {},
   "outputs": [],
   "source": [
    "def my_sum(a: int,b: int) -> int:\n",
    "    return a + b"
   ]
  },
  {
   "cell_type": "code",
   "execution_count": 132,
   "id": "3ff8d1d4-70b5-4cd1-982e-9196569316b3",
   "metadata": {},
   "outputs": [
    {
     "data": {
      "text/plain": [
       "3"
      ]
     },
     "execution_count": 132,
     "metadata": {},
     "output_type": "execute_result"
    }
   ],
   "source": [
    "my_sum(1, 2)"
   ]
  },
  {
   "cell_type": "markdown",
   "id": "eb1e7764-37bd-41b5-aaea-81fb0f659139",
   "metadata": {},
   "source": [
    "### 이름공간(scope)\n",
    "python에서 사용되는 이름들은 이름공간(namespace)에 저장되어있습니다.\n",
    "\n",
    "- Local scope : 정의된 함수 내부\n",
    "- Enclosed scope : 상위 함수\n",
    "- Global scope : 함수 밖의 변수 혹은 improt된 모듈\n",
    "- Built-in scope : python이 기본적으로 가지고 있는 함수 혹은 변수"
   ]
  },
  {
   "cell_type": "code",
   "execution_count": 140,
   "id": "89f16b87-2af2-4f2a-b413-703813d9f89c",
   "metadata": {},
   "outputs": [],
   "source": [
    "str = '123'"
   ]
  },
  {
   "cell_type": "code",
   "execution_count": 134,
   "id": "7d78a172-2662-4d04-ae1a-b6585d89c14d",
   "metadata": {},
   "outputs": [
    {
     "name": "stdout",
     "output_type": "stream",
     "text": [
      "123\n"
     ]
    }
   ],
   "source": [
    "print(str)"
   ]
  },
  {
   "cell_type": "code",
   "execution_count": 141,
   "id": "e16a7a87-2b6a-46b9-ad5e-b845141f17cc",
   "metadata": {},
   "outputs": [
    {
     "ename": "TypeError",
     "evalue": "'str' object is not callable",
     "output_type": "error",
     "traceback": [
      "\u001b[1;31m---------------------------------------------------------------------------\u001b[0m",
      "\u001b[1;31mTypeError\u001b[0m                                 Traceback (most recent call last)",
      "Cell \u001b[1;32mIn[141], line 1\u001b[0m\n\u001b[1;32m----> 1\u001b[0m \u001b[38;5;28;43mstr\u001b[39;49m\u001b[43m(\u001b[49m\u001b[38;5;241;43m123\u001b[39;49m\u001b[43m)\u001b[49m\n",
      "\u001b[1;31mTypeError\u001b[0m: 'str' object is not callable"
     ]
    }
   ],
   "source": [
    "str(123)"
   ]
  },
  {
   "cell_type": "code",
   "execution_count": 142,
   "id": "3f63b262-0030-42a5-b336-78ae2ea54923",
   "metadata": {},
   "outputs": [],
   "source": [
    "del str #str이라는 변수를 지워달라는 의미"
   ]
  },
  {
   "cell_type": "code",
   "execution_count": 143,
   "id": "0212f5c3-1408-4c49-992b-cf66a51df428",
   "metadata": {},
   "outputs": [
    {
     "name": "stdout",
     "output_type": "stream",
     "text": [
      "5\n",
      "1\n"
     ]
    }
   ],
   "source": [
    "a = 1\n",
    "\n",
    "def local_scope(a):\n",
    "    print(a)\n",
    "\n",
    "local_scope(5) # a가 local_scope 함수를 만나 5로 출력된 상태\n",
    "print(a) #맨 위에 있는 a = 1을 print함수로 처리"
   ]
  },
  {
   "cell_type": "code",
   "execution_count": 146,
   "id": "3c99934d-ea2a-48ad-b2d9-6a9b79a599c2",
   "metadata": {},
   "outputs": [
    {
     "name": "stdout",
     "output_type": "stream",
     "text": [
      "10\n"
     ]
    }
   ],
   "source": [
    "a = 10\n",
    "\n",
    "def global_scope():\n",
    "    global a #밖에 있는 a를 들고 오고 싶다는 의미\n",
    "    print(a)\n",
    "\n",
    "global_scope()"
   ]
  },
  {
   "cell_type": "markdown",
   "id": "62128058-e622-4908-a463-96533bbc44f7",
   "metadata": {},
   "source": [
    "### 재귀(recursive)\n",
    "\n",
    "재귀함수는 함수 내부에서 자기 자신을 호출하는 함수를 의미"
   ]
  },
  {
   "cell_type": "code",
   "execution_count": 147,
   "id": "674ba69b-96dd-4062-b292-653f89ca8fbb",
   "metadata": {},
   "outputs": [
    {
     "name": "stdout",
     "output_type": "stream",
     "text": [
      "120\n"
     ]
    }
   ],
   "source": [
    "# 팩토리얼(n! = 1 * 2 * ...* n)\n",
    "def fact(n):\n",
    "    result = 1\n",
    "\n",
    "    while n>1:\n",
    "        result = result * n \n",
    "        #result* = n\n",
    "        n = n-1\n",
    "        # n-=1\n",
    "    return result\n",
    "\n",
    "print(fact(5))"
   ]
  },
  {
   "cell_type": "markdown",
   "id": "df335e12-8d41-4be5-a68e-cac39db78879",
   "metadata": {},
   "source": [
    "n! = 1 * 2 * ... * n-1 * n\n",
    "n! = (n-1)! * n"
   ]
  },
  {
   "cell_type": "code",
   "execution_count": 149,
   "id": "6ef03858-a28d-4a62-ac25-602376fb9220",
   "metadata": {},
   "outputs": [
    {
     "name": "stdout",
     "output_type": "stream",
     "text": [
      "120\n"
     ]
    }
   ],
   "source": [
    "def factorial(n):\n",
    "    if n <=1:\n",
    "        return 1\n",
    "    else:\n",
    "        return factorial(n-1) * n\n",
    "\n",
    "print(factorial(5))"
   ]
  },
  {
   "cell_type": "markdown",
   "id": "26f34514-94aa-492e-8cc7-cb1d128a1bc5",
   "metadata": {},
   "source": [
    "#### 피보나치 수열\n",
    "- F(0) = F(1) = 1\n",
    "- F(n) = F(n-1) + F(n-2)"
   ]
  },
  {
   "cell_type": "code",
   "execution_count": 152,
   "id": "b9b40727-112f-451f-aa57-842d5e99cabd",
   "metadata": {},
   "outputs": [
    {
     "name": "stdout",
     "output_type": "stream",
     "text": [
      "89\n"
     ]
    }
   ],
   "source": [
    "#반복문 : 직관적이진 않지만 게산값이 빠르게 나옴.\n",
    "def fib_loop(n):\n",
    "    result = [1, 1]\n",
    "\n",
    "    for i in range(1,n):\n",
    "        end1 = result[-1]\n",
    "        end2 = result[-2]\n",
    "\n",
    "        fib_num = end1 + end2\n",
    "\n",
    "        result.append(fib_num)\n",
    "    return result[-1]\n",
    "\n",
    "print(fib_loop(10))"
   ]
  },
  {
   "cell_type": "code",
   "execution_count": 154,
   "id": "08a0ecbf-713b-4319-b487-14fd5e42cb67",
   "metadata": {},
   "outputs": [
    {
     "name": "stdout",
     "output_type": "stream",
     "text": [
      "89\n"
     ]
    }
   ],
   "source": [
    "#재귀 : 컴퓨터에 과부하가 올 수 있어 비효율적(메모리)이나 직관적.\n",
    "def fib_rec(n):\n",
    "    if n == 0 or n == 1:\n",
    "        return 1\n",
    "    else:\n",
    "        return fib_rec(n-1) + fib_rec(n-2)\n",
    "\n",
    "print(fib_rec(10))"
   ]
  }
 ],
 "metadata": {
  "kernelspec": {
   "display_name": "Python 3 (ipykernel)",
   "language": "python",
   "name": "python3"
  },
  "language_info": {
   "codemirror_mode": {
    "name": "ipython",
    "version": 3
   },
   "file_extension": ".py",
   "mimetype": "text/x-python",
   "name": "python",
   "nbconvert_exporter": "python",
   "pygments_lexer": "ipython3",
   "version": "3.10.8"
  }
 },
 "nbformat": 4,
 "nbformat_minor": 5
}
