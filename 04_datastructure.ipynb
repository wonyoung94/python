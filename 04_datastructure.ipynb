{
 "cells": [
  {
   "cell_type": "code",
   "execution_count": 3,
   "id": "ef0bb4a5-f224-446a-8a12-09c0b71849fa",
   "metadata": {},
   "outputs": [
    {
     "data": {
      "text/plain": [
       "['__abs__',\n",
       " '__add__',\n",
       " '__and__',\n",
       " '__bool__',\n",
       " '__ceil__',\n",
       " '__class__',\n",
       " '__delattr__',\n",
       " '__dir__',\n",
       " '__divmod__',\n",
       " '__doc__',\n",
       " '__eq__',\n",
       " '__float__',\n",
       " '__floor__',\n",
       " '__floordiv__',\n",
       " '__format__',\n",
       " '__ge__',\n",
       " '__getattribute__',\n",
       " '__getnewargs__',\n",
       " '__gt__',\n",
       " '__hash__',\n",
       " '__index__',\n",
       " '__init__',\n",
       " '__init_subclass__',\n",
       " '__int__',\n",
       " '__invert__',\n",
       " '__le__',\n",
       " '__lshift__',\n",
       " '__lt__',\n",
       " '__mod__',\n",
       " '__mul__',\n",
       " '__ne__',\n",
       " '__neg__',\n",
       " '__new__',\n",
       " '__or__',\n",
       " '__pos__',\n",
       " '__pow__',\n",
       " '__radd__',\n",
       " '__rand__',\n",
       " '__rdivmod__',\n",
       " '__reduce__',\n",
       " '__reduce_ex__',\n",
       " '__repr__',\n",
       " '__rfloordiv__',\n",
       " '__rlshift__',\n",
       " '__rmod__',\n",
       " '__rmul__',\n",
       " '__ror__',\n",
       " '__round__',\n",
       " '__rpow__',\n",
       " '__rrshift__',\n",
       " '__rshift__',\n",
       " '__rsub__',\n",
       " '__rtruediv__',\n",
       " '__rxor__',\n",
       " '__setattr__',\n",
       " '__sizeof__',\n",
       " '__str__',\n",
       " '__sub__',\n",
       " '__subclasshook__',\n",
       " '__truediv__',\n",
       " '__trunc__',\n",
       " '__xor__',\n",
       " 'as_integer_ratio',\n",
       " 'bit_count',\n",
       " 'bit_length',\n",
       " 'conjugate',\n",
       " 'denominator',\n",
       " 'from_bytes',\n",
       " 'imag',\n",
       " 'numerator',\n",
       " 'real',\n",
       " 'to_bytes']"
      ]
     },
     "execution_count": 3,
     "metadata": {},
     "output_type": "execute_result"
    }
   ],
   "source": [
    "dir(1) #객체가 갖고 있는 기능들"
   ]
  },
  {
   "cell_type": "markdown",
   "id": "48159be5-e6e1-478e-8746-ac88137c340f",
   "metadata": {},
   "source": [
    "# 문자열 메소드(메소드 : 객체 안에 들어있는 함수)"
   ]
  },
  {
   "cell_type": "code",
   "execution_count": 13,
   "id": "b05bdd10-8ff3-41d9-92b8-b46b50a53cee",
   "metadata": {},
   "outputs": [],
   "source": [
    "a = 'hello my name is wonyoung'"
   ]
  },
  {
   "cell_type": "code",
   "execution_count": 5,
   "id": "8edf34c0-46b4-4426-a37c-3c4aadde9c85",
   "metadata": {},
   "outputs": [
    {
     "name": "stdout",
     "output_type": "stream",
     "text": [
      "hello my name is wonyoung\n"
     ]
    }
   ],
   "source": [
    "print(a)"
   ]
  },
  {
   "cell_type": "code",
   "execution_count": 9,
   "id": "4048a783-62ff-47c9-b022-add051d98edf",
   "metadata": {},
   "outputs": [
    {
     "name": "stdout",
     "output_type": "stream",
     "text": [
      "h\n"
     ]
    }
   ],
   "source": [
    "print(a[0]) #white space도 하나의 데이터"
   ]
  },
  {
   "cell_type": "code",
   "execution_count": 10,
   "id": "93189ded-99c5-4aa5-a16f-d2687d940d6e",
   "metadata": {},
   "outputs": [
    {
     "ename": "TypeError",
     "evalue": "'str' object does not support item assignment",
     "output_type": "error",
     "traceback": [
      "\u001b[1;31m---------------------------------------------------------------------------\u001b[0m",
      "\u001b[1;31mTypeError\u001b[0m                                 Traceback (most recent call last)",
      "Cell \u001b[1;32mIn[10], line 1\u001b[0m\n\u001b[1;32m----> 1\u001b[0m \u001b[43ma\u001b[49m\u001b[43m[\u001b[49m\u001b[38;5;241;43m0\u001b[39;49m\u001b[43m]\u001b[49m \u001b[38;5;241m=\u001b[39m \u001b[38;5;124m'\u001b[39m\u001b[38;5;124mH\u001b[39m\u001b[38;5;124m'\u001b[39m\n",
      "\u001b[1;31mTypeError\u001b[0m: 'str' object does not support item assignment"
     ]
    }
   ],
   "source": [
    "a[0] = 'H'"
   ]
  },
  {
   "cell_type": "code",
   "execution_count": 11,
   "id": "736db936-dabb-42d1-8e28-34cd80785aad",
   "metadata": {},
   "outputs": [],
   "source": [
    "#문자열은 일부 수정은 안되므로 전체 데이터를 재할당 필요\n",
    "a = 'Hello my name is wonyoung'"
   ]
  },
  {
   "cell_type": "code",
   "execution_count": 16,
   "id": "7c1f7887-b482-4980-b7d5-11cd28feb43f",
   "metadata": {},
   "outputs": [
    {
     "name": "stdout",
     "output_type": "stream",
     "text": [
      "Hello my name is wonyoung\n"
     ]
    }
   ],
   "source": [
    "#시작하는 문자를 대문자로 변환해주는 기능(원본 데이터는 변함 X)\n",
    "a.capitalize()\n",
    "#원본데이터를 바꾸려면 이 함수 자체를 할당\n",
    "a = a.capitalize()"
   ]
  },
  {
   "cell_type": "code",
   "execution_count": 19,
   "id": "fab7efa6-e100-405b-8fba-cfdd29b0ffcf",
   "metadata": {},
   "outputs": [
    {
     "data": {
      "text/plain": [
       "'Hello My Name Is Wonyoung'"
      ]
     },
     "execution_count": 19,
     "metadata": {},
     "output_type": "execute_result"
    }
   ],
   "source": [
    "a.title()"
   ]
  },
  {
   "cell_type": "code",
   "execution_count": 23,
   "id": "f83ec9f3-c0d4-438d-9290-429551f1fc8b",
   "metadata": {},
   "outputs": [
    {
     "data": {
      "text/plain": [
       "'himyname'"
      ]
     },
     "execution_count": 23,
     "metadata": {},
     "output_type": "execute_result"
    }
   ],
   "source": [
    "my_list = ['hi', 'my', 'name']\n",
    "''.join(my_list)"
   ]
  },
  {
   "cell_type": "code",
   "execution_count": 30,
   "id": "fe202bc1-ea30-4714-a42f-70c38d7e6ec5",
   "metadata": {},
   "outputs": [
    {
     "name": "stdout",
     "output_type": "stream",
     "text": [
      "         hello\n",
      "      \n",
      "hello\n",
      "ello\n",
      "ellohihihihihihi\n",
      "hihihihihihihihello\n"
     ]
    }
   ],
   "source": [
    "#.strip([chars])\n",
    "#[chars를 넣어도 되고 안넣어도 된다는 의미 : 기본값 or 가변인자]\n",
    "\n",
    "my_string = '         hello\\n      '\n",
    "print(my_string)\n",
    "print(my_string.strip())\n",
    "my_string2 = 'hihihihihihihihellohihihihihihi'\n",
    "print(my_string2.strip('hi'))\n",
    "print(my_string2.lstrip('hi'))\n",
    "print(my_string2.rstrip('hi'))"
   ]
  },
  {
   "cell_type": "code",
   "execution_count": 32,
   "id": "0c36c271-2bb1-4276-9448-de40501d2339",
   "metadata": {},
   "outputs": [
    {
     "data": {
      "text/plain": [
       "'w!!!ooooooow'"
      ]
     },
     "execution_count": 32,
     "metadata": {},
     "output_type": "execute_result"
    }
   ],
   "source": [
    "# .replace(old, new[, count])\n",
    "a = 'woooooooooow'\n",
    "a.replace('o', '!', 3)"
   ]
  },
  {
   "cell_type": "code",
   "execution_count": 45,
   "id": "ca67315f-7dec-46a1-a0d8-745e8a2b3f6f",
   "metadata": {},
   "outputs": [
    {
     "name": "stdout",
     "output_type": "stream",
     "text": [
      "0\n",
      "1\n",
      "4\n",
      "-1\n",
      "1\n"
     ]
    }
   ],
   "source": [
    "# .find(x)\n",
    "a = 'apple'\n",
    "print(a.find('a'))\n",
    "print(a.find('p'))\n",
    "print(a.find('e'))\n",
    "print(a.find('z'))\n",
    "\n",
    "for i in range (len(a)):\n",
    "    if'p' == a[i]:\n",
    "        print(i)\n",
    "        break\n",
    "else:\n",
    "    print(-1)"
   ]
  },
  {
   "cell_type": "code",
   "execution_count": 46,
   "id": "25f257cf-b9cc-46f0-8c32-9b11efa016cc",
   "metadata": {},
   "outputs": [
    {
     "name": "stdout",
     "output_type": "stream",
     "text": [
      "0\n"
     ]
    },
    {
     "ename": "ValueError",
     "evalue": "substring not found",
     "output_type": "error",
     "traceback": [
      "\u001b[1;31m---------------------------------------------------------------------------\u001b[0m",
      "\u001b[1;31mValueError\u001b[0m                                Traceback (most recent call last)",
      "Cell \u001b[1;32mIn[46], line 4\u001b[0m\n\u001b[0;32m      2\u001b[0m a \u001b[38;5;241m=\u001b[39m \u001b[38;5;124m'\u001b[39m\u001b[38;5;124mapple\u001b[39m\u001b[38;5;124m'\u001b[39m\n\u001b[0;32m      3\u001b[0m \u001b[38;5;28mprint\u001b[39m(a\u001b[38;5;241m.\u001b[39mindex(\u001b[38;5;124m'\u001b[39m\u001b[38;5;124ma\u001b[39m\u001b[38;5;124m'\u001b[39m))\n\u001b[1;32m----> 4\u001b[0m \u001b[38;5;28mprint\u001b[39m(\u001b[43ma\u001b[49m\u001b[38;5;241;43m.\u001b[39;49m\u001b[43mindex\u001b[49m\u001b[43m(\u001b[49m\u001b[38;5;124;43m'\u001b[39;49m\u001b[38;5;124;43mz\u001b[39;49m\u001b[38;5;124;43m'\u001b[39;49m\u001b[43m)\u001b[49m)\n",
      "\u001b[1;31mValueError\u001b[0m: substring not found"
     ]
    }
   ],
   "source": [
    "#.index(x)\n",
    "a = 'apple'\n",
    "print(a.index('a'))\n",
    "print(a.index('z'))\n",
    "#find와 동일한 함수지만, 찾는게 없는 경우 나오는 출력이 다름(find는 -1, index는 에러 출력)"
   ]
  },
  {
   "cell_type": "code",
   "execution_count": 48,
   "id": "31db8346-1a8b-4036-9edc-114589b27382",
   "metadata": {},
   "outputs": [
    {
     "data": {
      "text/plain": [
       "['my', 'name', 'is']"
      ]
     },
     "execution_count": 48,
     "metadata": {},
     "output_type": "execute_result"
    }
   ],
   "source": [
    "# .split(x) : 기본적으로 문자열을 공백 기준으로 쪼개서 리스트화\n",
    "a = 'my name is'\n",
    "a.split()"
   ]
  },
  {
   "cell_type": "code",
   "execution_count": 50,
   "id": "a7e1fb9c-f4c9-45e4-8595-e6219ebcb5b7",
   "metadata": {},
   "outputs": [
    {
     "data": {
      "text/plain": [
       "9"
      ]
     },
     "execution_count": 50,
     "metadata": {},
     "output_type": "execute_result"
    }
   ],
   "source": [
    "# .count(x) : 문자열에서 x의 갯수\n",
    "'wooooooooow'.count('o')"
   ]
  },
  {
   "cell_type": "markdown",
   "id": "059fa1e9-3843-413b-ba93-a89dadbcb1d7",
   "metadata": {},
   "source": [
    "# 리스트 메소드"
   ]
  },
  {
   "cell_type": "code",
   "execution_count": 60,
   "id": "5cc34e5c-dafe-4db8-b025-595dc7994e1e",
   "metadata": {},
   "outputs": [],
   "source": [
    "numbers = [5, 4, 7, 1, 2]"
   ]
  },
  {
   "cell_type": "code",
   "execution_count": 61,
   "id": "c46493b4-a66d-49e1-a333-09124fb68384",
   "metadata": {},
   "outputs": [
    {
     "name": "stdout",
     "output_type": "stream",
     "text": [
      "[5, 4, 7, 1, 2, 10]\n"
     ]
    }
   ],
   "source": [
    "# .append(x) 리스트에 x을 추가하는 함수\n",
    "numbers.append(10) \n",
    "print(numbers)"
   ]
  },
  {
   "cell_type": "code",
   "execution_count": 62,
   "id": "4f9455a2-43c5-43d0-8e20-6d3a355695de",
   "metadata": {},
   "outputs": [
    {
     "name": "stdout",
     "output_type": "stream",
     "text": [
      "[5, 4, 7, 1, 2, 10, 99, 110]\n",
      "[5, 4, 7, 1, 2, 10, 99, 110, 99, 110]\n"
     ]
    }
   ],
   "source": [
    "# .extend(iterable)\n",
    "a = [99, 110]\n",
    "numbers.extend(a)\n",
    "print(numbers)\n",
    "print(numbers + a)"
   ]
  },
  {
   "cell_type": "code",
   "execution_count": 63,
   "id": "b026fbb6-8b65-4ab7-bae4-a867f8a7e22b",
   "metadata": {},
   "outputs": [
    {
     "name": "stdout",
     "output_type": "stream",
     "text": [
      "[5, 4, 7, 3.5, 1, 2, 10, 99, 110]\n"
     ]
    }
   ],
   "source": [
    "# .insert(idx, x) 특정한 idx위치에 x를 삽입\n",
    "numbers.insert(3, 3.5)\n",
    "print(numbers)"
   ]
  },
  {
   "cell_type": "code",
   "execution_count": 68,
   "id": "f346a8b4-598f-4ae9-9629-85a143a19b33",
   "metadata": {},
   "outputs": [
    {
     "name": "stdout",
     "output_type": "stream",
     "text": [
      "[5, 4, 7, 1, 2, 10, 99, 110]\n"
     ]
    }
   ],
   "source": [
    "# .remove(x) x를 삭제\n",
    "numbers.remove(3.5)\n",
    "print(numbers)"
   ]
  },
  {
   "cell_type": "code",
   "execution_count": 71,
   "id": "7d4bbe8b-c1ad-4c03-a8fc-eae240d1a9e8",
   "metadata": {},
   "outputs": [
    {
     "name": "stdout",
     "output_type": "stream",
     "text": [
      "[4, 7, 1, 2]\n",
      "[7, 1, 2]\n"
     ]
    },
    {
     "data": {
      "text/plain": [
       "2"
      ]
     },
     "execution_count": 71,
     "metadata": {},
     "output_type": "execute_result"
    }
   ],
   "source": [
    "# .pop(idx) idx위치에 있는 숫자 하나 사라짐\n",
    "numbers.pop()\n",
    "print(numbers)\n",
    "\n",
    "numbers.pop(0)\n",
    "print(numbers)\n",
    "\n",
    "numbers.pop() #뭘 뺏는지 알려준다."
   ]
  },
  {
   "cell_type": "code",
   "execution_count": 72,
   "id": "67603740-1f0e-4b69-b2e6-b87072cb8aca",
   "metadata": {},
   "outputs": [
    {
     "name": "stdout",
     "output_type": "stream",
     "text": [
      "1\n"
     ]
    }
   ],
   "source": [
    "num = numbers.pop()\n",
    "print(num)"
   ]
  },
  {
   "cell_type": "code",
   "execution_count": 75,
   "id": "54052b7b-9bf2-4806-858c-a6b47233849b",
   "metadata": {},
   "outputs": [
    {
     "name": "stdout",
     "output_type": "stream",
     "text": [
      "[5, 4, 7, 1, 2]\n",
      "None\n",
      "[1, 2, 4, 5, 7]\n",
      "None\n",
      "[7, 5, 4, 2, 1]\n"
     ]
    }
   ],
   "source": [
    "# .sort 오름차순으로 정렬\n",
    "numbers = [5, 4, 7, 1, 2]\n",
    "print(numbers)\n",
    "\n",
    "print(numbers.sort()) # return 만 none일뿐 원본데이터는 정렬 완료\n",
    "\n",
    "print(numbers)\n",
    "\n",
    "print(numbers.sort(reverse = True)) #내림차순으로\n",
    "\n",
    "print(numbers)"
   ]
  },
  {
   "cell_type": "code",
   "execution_count": 78,
   "id": "d449f451-0973-49b0-9dec-55fede271771",
   "metadata": {},
   "outputs": [
    {
     "name": "stdout",
     "output_type": "stream",
     "text": [
      "[1, 2, 4, 5, 7]\n",
      "[5, 4, 7, 1, 2]\n"
     ]
    }
   ],
   "source": [
    "numbers = [5, 4, 7, 1, 2]\n",
    "print(sorted(numbers)) #원본 데이터 유지\n",
    "print(numbers)"
   ]
  },
  {
   "cell_type": "code",
   "execution_count": 83,
   "id": "ded6eb1f-4bdf-4dac-98a9-9bbf95a2991d",
   "metadata": {},
   "outputs": [
    {
     "name": "stdout",
     "output_type": "stream",
     "text": [
      "[5, 4, 7, 1, 2, 8, 5, 6, 9, 2, 4, 1, 10]\n",
      "[10, 1, 4, 2, 9, 6, 5, 8, 2, 1, 7, 4, 5]\n",
      "[5, 4, 7, 1, 2, 8, 5, 6, 9, 2, 4, 1, 10]\n"
     ]
    }
   ],
   "source": [
    "# .reverse() 단순히 순서를 바꾼다(거꾸로)\n",
    "numbers = [5, 4, 7, 1, 2, 8, 5, 6, 9, 2, 4, 1, 10]\n",
    "print(numbers) #원본\n",
    "numbers.reverse() #역순\n",
    "print(numbers) #역순\n",
    "numbers = numbers[ : : -1] #reverse와 비슷한 기능\n",
    "print(numbers)"
   ]
  },
  {
   "cell_type": "markdown",
   "id": "281478ca-fb0c-442f-b524-b978404e8f61",
   "metadata": {},
   "source": [
    "## list copy"
   ]
  },
  {
   "cell_type": "code",
   "execution_count": 85,
   "id": "6d49e923-cc8a-4c06-9f56-322486b48e97",
   "metadata": {},
   "outputs": [],
   "source": [
    "origin_list = [1, 2, 3]\n",
    "copy_list = origin_list"
   ]
  },
  {
   "cell_type": "code",
   "execution_count": 87,
   "id": "45e8d5b3-6eb7-472c-9edf-95e567944bd9",
   "metadata": {},
   "outputs": [
    {
     "name": "stdout",
     "output_type": "stream",
     "text": [
      "[1, 2, 3]\n",
      "[1, 2, 3]\n"
     ]
    }
   ],
   "source": [
    "print(origin_list)\n",
    "print(copy_list)"
   ]
  },
  {
   "cell_type": "code",
   "execution_count": 88,
   "id": "97598401-4f49-4dc1-a4c0-25bbb1104af7",
   "metadata": {},
   "outputs": [],
   "source": [
    "copy_list[0] = 100"
   ]
  },
  {
   "cell_type": "code",
   "execution_count": 89,
   "id": "5933f831-aa1d-4df0-9782-8c15d9fb93aa",
   "metadata": {},
   "outputs": [
    {
     "name": "stdout",
     "output_type": "stream",
     "text": [
      "[100, 2, 3]\n",
      "[100, 2, 3]\n"
     ]
    }
   ],
   "source": [
    "print(origin_list)\n",
    "print(copy_list)"
   ]
  },
  {
   "cell_type": "code",
   "execution_count": 90,
   "id": "9b00696f-f1a4-4ed1-a6ce-e7e09965e2d4",
   "metadata": {},
   "outputs": [
    {
     "name": "stdout",
     "output_type": "stream",
     "text": [
      "[1, 2, 3]\n",
      "[100, 2, 3]\n"
     ]
    }
   ],
   "source": [
    "a = [1, 2, 3]\n",
    "b = list (a) # b = a[:]같은 의미\n",
    "\n",
    "b[0] = 100\n",
    "\n",
    "print(a)\n",
    "print(b)"
   ]
  },
  {
   "cell_type": "code",
   "execution_count": 91,
   "id": "c9ee57bc-1b92-443c-90ec-342e34be64a4",
   "metadata": {},
   "outputs": [
    {
     "name": "stdout",
     "output_type": "stream",
     "text": [
      "[1, 2, [99, 1000]]\n",
      "[1, 2, [99, 1000]]\n"
     ]
    }
   ],
   "source": [
    "a = [1, 2, [99,100]]\n",
    "b = a[:]\n",
    "\n",
    "b[2][1] = 1000\n",
    "print(a)\n",
    "print(b)"
   ]
  },
  {
   "cell_type": "code",
   "execution_count": 92,
   "id": "50f73370-279c-465c-b3f4-6f7e0347b794",
   "metadata": {},
   "outputs": [
    {
     "name": "stdout",
     "output_type": "stream",
     "text": [
      "[1, 2, [99, 100]]\n",
      "[1, 2, [99, 1000]]\n"
     ]
    }
   ],
   "source": [
    "import copy \n",
    "a = [1, 2, [99,100]]\n",
    "b = copy.deepcopy(a) #리스트 안에 리스트가 있는 경우 독립적인 복제가 필요할 경우 사용\n",
    "\n",
    "b[2][1] = 1000\n",
    "print(a)\n",
    "print(b)"
   ]
  },
  {
   "cell_type": "markdown",
   "id": "3e96aab2-18fe-4383-bd48-0b78972ce342",
   "metadata": {},
   "source": [
    "## list comprehension"
   ]
  },
  {
   "cell_type": "code",
   "execution_count": 93,
   "id": "6b71b223-0798-4e90-98c3-5d23b1206099",
   "metadata": {},
   "outputs": [
    {
     "name": "stdout",
     "output_type": "stream",
     "text": [
      "[1, 2, 3, 4, 5, 6, 7, 8, 9, 10]\n"
     ]
    }
   ],
   "source": [
    "numbers = list(range(1,11))\n",
    "print(numbers)"
   ]
  },
  {
   "cell_type": "code",
   "execution_count": 94,
   "id": "8ed73e92-3e13-487f-a7c5-c63f7ca909a1",
   "metadata": {},
   "outputs": [
    {
     "name": "stdout",
     "output_type": "stream",
     "text": [
      "[1, 8, 27, 64, 125, 216, 343, 512, 729, 1000]\n"
     ]
    }
   ],
   "source": [
    "#[1, 8, 27, ..., 1000] for 문을 사용해서 세제곱 만들기\n",
    "result = []\n",
    "\n",
    "for number in numbers:\n",
    "    result.append(number**3)\n",
    "print(result)"
   ]
  },
  {
   "cell_type": "code",
   "execution_count": 95,
   "id": "5dffb784-476d-458f-ba50-05f815ef00c5",
   "metadata": {},
   "outputs": [
    {
     "name": "stdout",
     "output_type": "stream",
     "text": [
      "[1, 8, 27, 64, 125, 216, 343, 512, 729, 1000]\n"
     ]
    }
   ],
   "source": [
    "#[1, 8, 27, ..., 1000] list comprehension기능으로 세제곱 만들기\n",
    "result2 = [ number ** 3 for number in numbers ] # [결과값 / for문] 조합\n",
    "print(result)"
   ]
  },
  {
   "cell_type": "code",
   "execution_count": 96,
   "id": "53c57648-eebc-4a2a-af15-dc51c82b77e7",
   "metadata": {},
   "outputs": [
    {
     "name": "stdout",
     "output_type": "stream",
     "text": [
      "[2, 4, 6, 8, 10]\n"
     ]
    }
   ],
   "source": [
    "# 짝수만 고르기\n",
    "even_list = []\n",
    "for number in numbers:\n",
    "    if number % 2 == 0:\n",
    "        even_list.append(number)\n",
    "\n",
    "print(even_list)"
   ]
  },
  {
   "cell_type": "code",
   "execution_count": 99,
   "id": "952a3b51-5393-4bfb-9590-a1defaf4d5ee",
   "metadata": {},
   "outputs": [
    {
     "name": "stdout",
     "output_type": "stream",
     "text": [
      "[2, 4, 6, 8, 10]\n"
     ]
    }
   ],
   "source": [
    "# list comprehension기능으로 짝수만 고르기\n",
    "even_list2 = [ number for number in numbers if number % 2 == 0]\n",
    "print(even_list2)"
   ]
  },
  {
   "cell_type": "code",
   "execution_count": 106,
   "id": "3b5989e3-f468-48da-97b9-d668317b37b8",
   "metadata": {},
   "outputs": [],
   "source": [
    "words = 'my name is hong'\n",
    "vowels = 'aeiou'\n",
    "\n",
    "#모음만 다 빼기"
   ]
  },
  {
   "cell_type": "code",
   "execution_count": 117,
   "id": "2b29a5b2-31f2-49eb-8199-ff512ac2e7a4",
   "metadata": {},
   "outputs": [
    {
     "name": "stdout",
     "output_type": "stream",
     "text": [
      "my nm s hng\n"
     ]
    }
   ],
   "source": [
    "# 1. for문\n",
    "words = 'my name is hong'\n",
    "vowels = 'aeiou'\n",
    "\n",
    "for vowel in vowels:\n",
    "    words = words.replace(vowel,'')\n",
    "\n",
    "print(words)"
   ]
  },
  {
   "cell_type": "code",
   "execution_count": 118,
   "id": "951ff02d-0d81-4fc4-a65d-f7d6925e2fc5",
   "metadata": {},
   "outputs": [
    {
     "name": "stdout",
     "output_type": "stream",
     "text": [
      "['m', 'y', ' ', 'n', 'm', ' ', 's', ' ', 'h', 'n', 'g']\n",
      "my nm s hng\n"
     ]
    }
   ],
   "source": [
    "result = []\n",
    "for char in words:\n",
    "    if char not in vowels:\n",
    "        result.append(char)\n",
    "\n",
    "print(result)\n",
    "print(''.join(result))"
   ]
  },
  {
   "cell_type": "code",
   "execution_count": 119,
   "id": "86e00190-342c-4d40-8ee0-0fa27b17d09a",
   "metadata": {},
   "outputs": [
    {
     "name": "stdout",
     "output_type": "stream",
     "text": [
      "['m', 'y', ' ', 'n', 'm', ' ', 's', ' ', 'h', 'n', 'g']\n",
      "my nm s hng\n"
     ]
    }
   ],
   "source": [
    "# 2. list comprehension기능\n",
    "result = [char for char in words if char not in vowels]\n",
    "print(result)\n",
    "print(''.join(result))"
   ]
  },
  {
   "cell_type": "code",
   "execution_count": 120,
   "id": "3227d4f7-e607-43ef-8d99-a28d0ea256d8",
   "metadata": {},
   "outputs": [
    {
     "name": "stdout",
     "output_type": "stream",
     "text": [
      "['M', 'N', 'H']\n",
      "MNH\n"
     ]
    }
   ],
   "source": [
    "words = 'My Name Is Hong'\n",
    "vowels = 'aeiouAEIOU'\n",
    "\n",
    "result = [char for char in words if char not in vowels if char.isupper()]\n",
    "print(result)\n",
    "print(''.join(result))\n"
   ]
  },
  {
   "cell_type": "code",
   "execution_count": 121,
   "id": "280cb2fd-adc9-490f-9ac7-d7f9179776f8",
   "metadata": {},
   "outputs": [
    {
     "name": "stdout",
     "output_type": "stream",
     "text": [
      "My Nm s Hng\n"
     ]
    }
   ],
   "source": [
    "result2 = ''.join([char for char in words if char not in vowels])\n",
    "print(result2)"
   ]
  },
  {
   "cell_type": "markdown",
   "id": "d2c021db-9de7-464b-9f82-dff66bf88767",
   "metadata": {},
   "source": [
    "# 딕셔너리 메소드"
   ]
  },
  {
   "cell_type": "code",
   "execution_count": 143,
   "id": "f201add3-eedd-480f-a4ab-3a1a3c116fdb",
   "metadata": {},
   "outputs": [],
   "source": [
    "info= {\n",
    "    'name': 'wonyoung',\n",
    "    'location': 'seoul',\n",
    "}"
   ]
  },
  {
   "cell_type": "code",
   "execution_count": 139,
   "id": "6e7cdded-423f-4eb3-81b2-578a9d2ee279",
   "metadata": {},
   "outputs": [
    {
     "name": "stdout",
     "output_type": "stream",
     "text": [
      "{'name': 'jun', 'location': 'seoul'}\n"
     ]
    }
   ],
   "source": [
    "info['name'] = 'jun'\n",
    "print(info)"
   ]
  },
  {
   "cell_type": "code",
   "execution_count": 145,
   "id": "8dac9fd0-73d4-404b-b3fb-48550a424bb2",
   "metadata": {},
   "outputs": [
    {
     "name": "stdout",
     "output_type": "stream",
     "text": [
      "{'name': 'wonyoung', 'location': 'seoul'}\n",
      "seoul\n",
      "{'name': 'wonyoung'}\n",
      "None\n"
     ]
    }
   ],
   "source": [
    "# .pop(key[, default]) : 데이터 제거시 사용, key가 없으면 default 값 출력\n",
    "print(info) #실행시 삭제되는 데이터 조회\n",
    "print(info.pop('location')) #실행 완료 후 데이터 조회\n",
    "\n",
    "print(info)\n",
    "print(info.pop('location',None))"
   ]
  },
  {
   "cell_type": "code",
   "execution_count": 146,
   "id": "594a3b83-0e9b-46ff-9cc5-51864e1319c5",
   "metadata": {},
   "outputs": [
    {
     "name": "stdout",
     "output_type": "stream",
     "text": [
      "{'name': 'park'}\n"
     ]
    }
   ],
   "source": [
    "# .update(key=value) : 값 수정\n",
    "info.update(name = 'park')\n",
    "print(info)"
   ]
  },
  {
   "cell_type": "code",
   "execution_count": 147,
   "id": "9289cdac-7a52-4f6a-a367-f2e18a891c56",
   "metadata": {},
   "outputs": [
    {
     "name": "stdout",
     "output_type": "stream",
     "text": [
      "park\n",
      "None\n",
      "해당키가 없습니다.\n"
     ]
    }
   ],
   "source": [
    "# .get(key[, defalut]) : 값 추가??에러 뜨는 경우 확인 하기\n",
    "print(info.get('name'))\n",
    "print(info.get('phone'))\n",
    "print(info.get('phone','해당키가 없습니다.'))"
   ]
  },
  {
   "cell_type": "markdown",
   "id": "55a29297-cede-4490-82ea-93c07ef790a4",
   "metadata": {},
   "source": [
    "## dict comprehension"
   ]
  },
  {
   "cell_type": "code",
   "execution_count": 148,
   "id": "b41bdbbd-9c3e-4d51-95a2-903e4f795fda",
   "metadata": {},
   "outputs": [
    {
     "name": "stdout",
     "output_type": "stream",
     "text": [
      "{1: 1, 2: 8, 3: 27, 4: 64, 5: 125, 6: 216, 7: 343, 8: 512, 9: 729, 10: 1000}\n"
     ]
    }
   ],
   "source": [
    "#for\n",
    "#{1: 1, 2: 8...}\n",
    "result = {}\n",
    "numbers = range(1,11)\n",
    "for number in numbers:\n",
    "    result[number] = number ** 3\n",
    "\n",
    "print(result)"
   ]
  },
  {
   "cell_type": "code",
   "execution_count": 151,
   "id": "c74327b1-51de-4623-b83a-658f2bdfd1d7",
   "metadata": {},
   "outputs": [
    {
     "name": "stdout",
     "output_type": "stream",
     "text": [
      "{1: 1, 2: 8, 3: 27, 4: 64, 5: 125, 6: 216, 7: 343, 8: 512, 9: 729, 10: 1000}\n"
     ]
    }
   ],
   "source": [
    "# dict comprehension\n",
    "result2 = { number: number ** 3 for number in range(1,11)}\n",
    "print(result2)"
   ]
  },
  {
   "cell_type": "code",
   "execution_count": 167,
   "id": "1fd06948-4a1a-4e11-9ef7-0730a04246d4",
   "metadata": {},
   "outputs": [],
   "source": [
    "dust = {\n",
    "    '서울': 100,\n",
    "    '대구': 30,\n",
    "    '부산': 50,\n",
    "    '광주': 80,\n",
    "    '제주': 20, \n",
    "}\n",
    "#50이상만 남게"
   ]
  },
  {
   "cell_type": "code",
   "execution_count": 168,
   "id": "288553c6-a608-4bf8-8014-84cfb129fcbd",
   "metadata": {},
   "outputs": [
    {
     "name": "stdout",
     "output_type": "stream",
     "text": [
      "{'서울': 100, '부산': 50, '광주': 80}\n"
     ]
    }
   ],
   "source": [
    "#for문\n",
    "result = {}\n",
    "for k,v in dust.items():\n",
    "    if v >= 50:\n",
    "        result[k] = v\n",
    "\n",
    "print(result)"
   ]
  },
  {
   "cell_type": "code",
   "execution_count": 170,
   "id": "c0b8b085-a405-4c37-8681-984c8ee9cdec",
   "metadata": {},
   "outputs": [
    {
     "name": "stdout",
     "output_type": "stream",
     "text": [
      "{'서울': 100, '부산': 50, '광주': 80}\n"
     ]
    }
   ],
   "source": [
    "# dict comprehension\n",
    "result2 = { k:v for k, v in dust.items() if v >= 50}\n",
    "print(result2)"
   ]
  },
  {
   "cell_type": "code",
   "execution_count": 171,
   "id": "c2ebc00b-ac4e-44e2-9e36-57759ea6be20",
   "metadata": {},
   "outputs": [
    {
     "name": "stdout",
     "output_type": "stream",
     "text": [
      "{'서울': '나쁨', '부산': '나쁨', '광주': '나쁨'}\n"
     ]
    }
   ],
   "source": [
    "# dict comprehension\n",
    "result2 = { k:'나쁨' for k, v in dust.items() if v >= 50} #value값 수정 가능\n",
    "print(result2)"
   ]
  },
  {
   "cell_type": "markdown",
   "id": "0d32fbde-7a3b-4e50-b4eb-c0f3995e49d5",
   "metadata": {},
   "source": [
    "# 세트 메소드"
   ]
  },
  {
   "cell_type": "code",
   "execution_count": 173,
   "id": "1404d76f-e54e-47ed-96e9-f202b16310f4",
   "metadata": {},
   "outputs": [],
   "source": [
    "fruits = {'apple', 'banana', 'melon'}"
   ]
  },
  {
   "cell_type": "code",
   "execution_count": 187,
   "id": "0beebd96-31e9-49df-b29b-9eae6071e272",
   "metadata": {},
   "outputs": [
    {
     "name": "stdout",
     "output_type": "stream",
     "text": [
      "{'grape', 'melon', 'apple', 'r', 'banana', 'p', 'a', 'watermelon', 'g'}\n",
      "{'grape', 'melon', 'apple', 'r', 'banana', 'p', 'a', 'watermelon', 'g'}\n"
     ]
    }
   ],
   "source": [
    "# .add(x) : 추가\n",
    "fruits.add('watermelon')\n",
    "print(fruits)\n",
    "fruits.add('watermelon') #세트 특성상 중복 데이터가 없어서 2번 이상 추가는 안됨, 순서가 없는 데이터\n",
    "print(fruits)"
   ]
  },
  {
   "cell_type": "code",
   "execution_count": 194,
   "id": "17e731fc-ceea-4487-b2ca-0f1be1fcd8a9",
   "metadata": {},
   "outputs": [
    {
     "name": "stdout",
     "output_type": "stream",
     "text": [
      "{'e', 'grape', 'melon', 'apple', 'r', 'banana', 'p', 'a', 'watermelon', 'g'}\n",
      "{'e', 'grape', 'melon', 'apple', 'r', 'banana', 'p', 'a', 'watermelon', 'orange', 'g'}\n"
     ]
    }
   ],
   "source": [
    "# .update(set) : add와 비슷하지만, 단어 자체를 하나하나 넣어준다.\n",
    "fruits.update('grape') #하나하나 잘라져서 들어간다\n",
    "print(fruits)\n",
    "fruits.update({'grape'}, {'orange'})#여러개의 데이터를 추가하기에 좋다.\n",
    "print(fruits)\n"
   ]
  },
  {
   "cell_type": "code",
   "execution_count": 195,
   "id": "d6708159-2023-45c1-a69d-afac5e674d3c",
   "metadata": {},
   "outputs": [
    {
     "name": "stdout",
     "output_type": "stream",
     "text": [
      "{'e', 'grape', 'melon', 'apple', 'r', 'banana', 'p', 'a', 'watermelon', 'g'}\n",
      "{'e', 'melon', 'apple', 'r', 'banana', 'p', 'a', 'watermelon', 'g'}\n"
     ]
    }
   ],
   "source": [
    "# .remove(x) : 여러개 삭제 불가, \n",
    "fruits.remove('orange')\n",
    "print(fruits)\n",
    "fruits.remove('grape')\n",
    "print(fruits)\n"
   ]
  },
  {
   "cell_type": "code",
   "execution_count": 196,
   "id": "1516d25a-b588-4e50-94dc-7dcf569c3eeb",
   "metadata": {},
   "outputs": [
    {
     "name": "stdout",
     "output_type": "stream",
     "text": [
      "{'e', 'apple', 'r', 'banana', 'p', 'a', 'watermelon', 'g'}\n"
     ]
    }
   ],
   "source": [
    "# .pop()\n",
    "fruits. pop()\n",
    "print(fruits) #뭐가 빠질지 모름"
   ]
  },
  {
   "cell_type": "markdown",
   "id": "271e977d-b2b1-4cd4-891a-e56ea1693e56",
   "metadata": {},
   "source": [
    "## map, filter, zip"
   ]
  },
  {
   "cell_type": "markdown",
   "id": "731f83d2-e7eb-43f4-b082-9d3ad33495a3",
   "metadata": {},
   "source": [
    "- map(function, iterable)"
   ]
  },
  {
   "cell_type": "code",
   "execution_count": 192,
   "id": "a0ccc5d1-eecf-4aaa-b0fd-6e012c59a242",
   "metadata": {},
   "outputs": [
    {
     "name": "stdout",
     "output_type": "stream",
     "text": [
      "<map object at 0x00000274D4E8B640>\n",
      "['1', '2', '3']\n"
     ]
    }
   ],
   "source": [
    "a = [1, 2, 3]\n",
    "number_str = map(str, a)\n",
    "print(number_str)\n",
    "print(list(number_str))"
   ]
  },
  {
   "cell_type": "code",
   "execution_count": 203,
   "id": "79122d10-c352-4a33-9278-921aa4e3a796",
   "metadata": {},
   "outputs": [
    {
     "name": "stdout",
     "output_type": "stream",
     "text": [
      "[1, 8, 27]\n"
     ]
    }
   ],
   "source": [
    "result = []\n",
    "for i in a:\n",
    "    result.append(i ** 3)\n",
    "\n",
    "print(result)"
   ]
  },
  {
   "cell_type": "code",
   "execution_count": 204,
   "id": "e0b3babf-aba4-4ed6-824e-8052c8a792c7",
   "metadata": {},
   "outputs": [
    {
     "name": "stdout",
     "output_type": "stream",
     "text": [
      "125\n",
      "1000\n"
     ]
    }
   ],
   "source": [
    "def cube(x):\n",
    "    return x ** 3\n",
    "\n",
    "print(cube(5))\n",
    "print(cube(10))"
   ]
  },
  {
   "cell_type": "code",
   "execution_count": 205,
   "id": "1d5457d2-738c-4b83-930e-81013f44bac8",
   "metadata": {},
   "outputs": [
    {
     "name": "stdout",
     "output_type": "stream",
     "text": [
      "[1, 8, 27]\n"
     ]
    }
   ],
   "source": [
    "result2 = (map(cube, a))\n",
    "print(list(result2))"
   ]
  },
  {
   "cell_type": "code",
   "execution_count": 208,
   "id": "c4cdf997-00dd-464b-8ef3-cd2281f6bb89",
   "metadata": {},
   "outputs": [
    {
     "name": "stdout",
     "output_type": "stream",
     "text": [
      "[1, 3, 5, 7, 9]\n"
     ]
    }
   ],
   "source": [
    "a = '1 3 5 7 9'\n",
    "#numbers = [1, 3, 5, 7, 9]\n",
    "numbers = list(map(int, a.split()))\n",
    "print(numbers)"
   ]
  },
  {
   "cell_type": "markdown",
   "id": "f4f10e50-6fce-42d9-b0a5-6a2390f28ab3",
   "metadata": {},
   "source": [
    "- filter(funtion, iterable)\n",
    "    - filt에 들어가는 funtion은 T/F를 반환해야 합니다."
   ]
  },
  {
   "cell_type": "code",
   "execution_count": 210,
   "id": "d118fa78-5f14-4352-915b-c2e378cd64e7",
   "metadata": {},
   "outputs": [
    {
     "name": "stdout",
     "output_type": "stream",
     "text": [
      "True\n",
      "False\n"
     ]
    }
   ],
   "source": [
    "def is_odd(x):\n",
    "    if x % 2 == 1:\n",
    "        return True\n",
    "    else:\n",
    "        return False\n",
    "print(is_odd(5))\n",
    "print(is_odd(10))"
   ]
  },
  {
   "cell_type": "code",
   "execution_count": 212,
   "id": "098f45c1-253d-44dc-8ca3-afd2447e1b7c",
   "metadata": {},
   "outputs": [],
   "source": [
    "numbers = [1, 2, 3, 4, 5]"
   ]
  },
  {
   "cell_type": "code",
   "execution_count": 213,
   "id": "014fd5ba-f625-4328-b9ef-5dbff0f4c0c2",
   "metadata": {},
   "outputs": [
    {
     "name": "stdout",
     "output_type": "stream",
     "text": [
      "[1, 3, 5]\n"
     ]
    }
   ],
   "source": [
    "#for\n",
    "result = []\n",
    "for number in numbers:\n",
    "    if is_odd(number):\n",
    "        result.append(number)\n",
    "\n",
    "print(result)\n",
    "    "
   ]
  },
  {
   "cell_type": "code",
   "execution_count": 214,
   "id": "9b75cd16-4f5c-4f5b-b272-c454fbeab0bf",
   "metadata": {},
   "outputs": [
    {
     "name": "stdout",
     "output_type": "stream",
     "text": [
      "[1, 3, 5]\n"
     ]
    }
   ],
   "source": [
    "result2 = filter(is_odd, numbers)\n",
    "print(list(result2))"
   ]
  },
  {
   "cell_type": "raw",
   "id": "421f96e0-341f-4c1b-93e5-e3ad2546919d",
   "metadata": {},
   "source": [
    "- zip : 갯수가 같아야 함, (다르면 작은 데이터 수를 기준으로 함)"
   ]
  },
  {
   "cell_type": "code",
   "execution_count": 216,
   "id": "a018c0d2-2a27-4386-bdf0-54796f21394a",
   "metadata": {},
   "outputs": [],
   "source": [
    "a = [1, 2, 3]\n",
    "b = [100, 200, 300]"
   ]
  },
  {
   "cell_type": "code",
   "execution_count": 217,
   "id": "d3303f00-1742-47d6-911a-c3089b2d41cc",
   "metadata": {},
   "outputs": [
    {
     "name": "stdout",
     "output_type": "stream",
     "text": [
      "<zip object at 0x00000274D6233EC0>\n",
      "[(1, 100), (2, 200), (3, 300)]\n"
     ]
    }
   ],
   "source": [
    "result = zip(a,b)\n",
    "print(result)\n",
    "print(list(result))\n"
   ]
  },
  {
   "cell_type": "code",
   "execution_count": null,
   "id": "53cb64cd-fba6-4e84-9b43-be8c261cf48a",
   "metadata": {},
   "outputs": [],
   "source": []
  },
  {
   "cell_type": "code",
   "execution_count": null,
   "id": "022237c6-922e-4e31-a81d-faad1a651487",
   "metadata": {},
   "outputs": [],
   "source": []
  },
  {
   "cell_type": "code",
   "execution_count": null,
   "id": "f198c857-f957-4d05-8bad-3ef2b929bdd4",
   "metadata": {},
   "outputs": [],
   "source": []
  },
  {
   "cell_type": "code",
   "execution_count": null,
   "id": "cf21fe88-cb2c-4ea6-bd76-14e53b7fae29",
   "metadata": {},
   "outputs": [],
   "source": []
  },
  {
   "cell_type": "code",
   "execution_count": null,
   "id": "418f961c-7b1a-4462-94ea-9fdf9dc7cc34",
   "metadata": {},
   "outputs": [],
   "source": []
  }
 ],
 "metadata": {
  "kernelspec": {
   "display_name": "Python 3 (ipykernel)",
   "language": "python",
   "name": "python3"
  },
  "language_info": {
   "codemirror_mode": {
    "name": "ipython",
    "version": 3
   },
   "file_extension": ".py",
   "mimetype": "text/x-python",
   "name": "python",
   "nbconvert_exporter": "python",
   "pygments_lexer": "ipython3",
   "version": "3.10.8"
  }
 },
 "nbformat": 4,
 "nbformat_minor": 5
}
