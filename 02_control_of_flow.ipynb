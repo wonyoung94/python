{
 "cells": [
  {
   "cell_type": "markdown",
   "id": "cb15ef9d-97bd-4134-82ad-9c3262bfcedc",
   "metadata": {},
   "source": [
    "# 제어문"
   ]
  },
  {
   "cell_type": "markdown",
   "id": "ccb798a6-a367-487d-8d54-5f421dd5d591",
   "metadata": {},
   "source": [
    "## 조건문(if문)\n",
    "\n",
    "```python\n",
    "if <조건식>:\n",
    "    if의 조건식이 참인 경우 실행하는 코드\n",
    "else: \n",
    "    if의 조건식이 거짓인 경우 실행하는 코드    \n",
    "```\n",
    "\n",
    "1. `if`문은 반드시 참/거짓을 판단 할 수 있는 `조건식`과 함께 사용한다.\n",
    "2. `조건식` 이 참인 경우 `:` 이후의 문장을 실행한다.\n",
    "3. `조건식` 이 거짓인 경우 `else:` 이후의 문장을 실행한다."
   ]
  },
  {
   "cell_type": "code",
   "execution_count": 3,
   "id": "5c978ed5-f977-4c95-bac0-3e2ade2e2846",
   "metadata": {},
   "outputs": [
    {
     "name": "stdin",
     "output_type": "stream",
     "text": [
      " 12/12\n"
     ]
    },
    {
     "name": "stdout",
     "output_type": "stream",
     "text": [
      "크리스마스가 아닙니다.\n"
     ]
    }
   ],
   "source": [
    "my_string = input()\n",
    "\n",
    "if my_string == '12/25':\n",
    "    print('크리스마스입니다')\n",
    "else:\n",
    "    print('크리스마스가 아닙니다.')\n"
   ]
  },
  {
   "cell_type": "code",
   "execution_count": 4,
   "id": "bfee0e78-527d-4f2f-af69-2305e8e2d58b",
   "metadata": {},
   "outputs": [
    {
     "name": "stdin",
     "output_type": "stream",
     "text": [
      "숫자를 입력해주세요 :  5\n"
     ]
    },
    {
     "name": "stdout",
     "output_type": "stream",
     "text": [
      "홀수입니다\n"
     ]
    }
   ],
   "source": [
    "num = input('숫자를 입력해주세요 : ')\n",
    "num = int(num)\n",
    "\n",
    "if num % 2 == 0:\n",
    "    print('짝수입니다')\n",
    "else:\n",
    "    print('홀수입니다')"
   ]
  },
  {
   "cell_type": "code",
   "execution_count": 5,
   "id": "c16613ac-282c-493e-8e00-2a3fc615e56b",
   "metadata": {},
   "outputs": [
    {
     "name": "stdin",
     "output_type": "stream",
     "text": [
      "숫자를 입력해주세요 :  5\n"
     ]
    },
    {
     "name": "stdout",
     "output_type": "stream",
     "text": [
      "홀수입니다\n"
     ]
    }
   ],
   "source": [
    "num = input('숫자를 입력해주세요 : ')\n",
    "num = int(num)\n",
    "\n",
    "if num % 2 == 1:\n",
    "    print('홀수입니다')\n",
    "else:\n",
    "    print('짝수입니다')"
   ]
  },
  {
   "cell_type": "code",
   "execution_count": 7,
   "id": "c54ae858-0a67-4d59-95d7-b89cd6751eaa",
   "metadata": {},
   "outputs": [
    {
     "name": "stdin",
     "output_type": "stream",
     "text": [
      "숫자를 입력해주세요 :  60\n"
     ]
    },
    {
     "name": "stdout",
     "output_type": "stream",
     "text": [
      "짝수입니다\n"
     ]
    }
   ],
   "source": [
    "#num을 2로 나눈 나머지는 0, 1 두가지 경우가 있다. \n",
    "#if 조건식에 0, 1은 자동형변환이 일어나 False, True로 변환된다. \n",
    "num = input('숫자를 입력해주세요 : ')\n",
    "num = int(num)\n",
    "\n",
    "if num % 2:\n",
    "    print('홀수입니다')\n",
    "else:\n",
    "    print('짝수입니다')"
   ]
  },
  {
   "cell_type": "markdown",
   "id": "526b302c-e66e-434a-a910-4a7666765d84",
   "metadata": {},
   "source": [
    "### elif\n",
    "\n",
    "```python\n",
    "if <조건식>:\n",
    "    if의 조건식이 참인 경우 실행하는 코드\n",
    "elif <조건식>:\n",
    "    elif 조건이 참인 경우 실행하는 코드\n",
    "...\n",
    "else: \n",
    "    위의 조건식에 하나도 부합하지 않는 경우 실행하는 코드\n",
    "\n",
    "```"
   ]
  },
  {
   "cell_type": "code",
   "execution_count": 12,
   "id": "78e1fe50-b942-40a3-ad5d-af80817e439c",
   "metadata": {},
   "outputs": [
    {
     "name": "stdin",
     "output_type": "stream",
     "text": [
      " 98\n"
     ]
    },
    {
     "name": "stdout",
     "output_type": "stream",
     "text": [
      "A 입니다\n",
      "good\n"
     ]
    }
   ],
   "source": [
    "score = int(input())\n",
    "\n",
    "# 90점 이상 A (95점 이상이라면 good 추가)\n",
    "# 80점 이상 B\n",
    "# 70점 이상 C\n",
    "# 나머지 F\n",
    "\n",
    "if score >=90:\n",
    "    print('A 입니다')\n",
    "    if score>=95:\n",
    "        print('good')\n",
    "elif score >=80:\n",
    "    print('B 입니다')\n",
    "elif score >=70:\n",
    "    print('C 입니다')\n",
    "else:\n",
    "    print('F 입니다')"
   ]
  },
  {
   "cell_type": "code",
   "execution_count": null,
   "id": "3ac0fd5d-1a23-4a29-a08a-a78cf9a3f4b0",
   "metadata": {},
   "outputs": [],
   "source": []
  },
  {
   "cell_type": "markdown",
   "id": "09b079b3-a7b2-445f-842b-e14fce92c5a0",
   "metadata": {},
   "source": [
    "## while 문\n",
    "\n",
    "```python\n",
    "while <조건식> :\n",
    "    실행할 코드\n",
    "```"
   ]
  },
  {
   "cell_type": "code",
   "execution_count": 1,
   "id": "3a4b3211-9b57-4f0d-8c42-c8b01da224e2",
   "metadata": {},
   "outputs": [
    {
     "name": "stdout",
     "output_type": "stream",
     "text": [
      "0\n",
      "1\n",
      "2\n",
      "3\n",
      "4\n"
     ]
    }
   ],
   "source": [
    "a = 0\n",
    "\n",
    "while a<5:\n",
    "    print(a)\n",
    "    a+=1\n",
    "    #a=a+1"
   ]
  },
  {
   "cell_type": "code",
   "execution_count": 3,
   "id": "1722e3e6-d4b1-4020-ae5d-c6c2b0118602",
   "metadata": {},
   "outputs": [
    {
     "name": "stdin",
     "output_type": "stream",
     "text": [
      "안녕이라고 해줘 :  as;dlfk\n",
      "안녕이라고 해줘 :  asdolfkj;alsk\n",
      "안녕이라고 해줘 :  안녕\n"
     ]
    }
   ],
   "source": [
    "greeting = ''\n",
    "\n",
    "while greeting != '안녕':\n",
    "    greeting = input('안녕이라고 해줘 : ')"
   ]
  },
  {
   "cell_type": "markdown",
   "id": "90e0bed3-a0e2-4590-8d65-5b52b0f7c013",
   "metadata": {},
   "source": [
    "### for\n",
    "정해진 범위 내의 반복\n",
    "\n",
    "```python\n",
    "for variable in sequence:\n",
    "    실행할 코드\n",
    "```"
   ]
  },
  {
   "cell_type": "code",
   "execution_count": 4,
   "id": "89b09392-bda9-4342-9fd6-48a9f57bc961",
   "metadata": {},
   "outputs": [
    {
     "name": "stdout",
     "output_type": "stream",
     "text": [
      "1\n",
      "2\n",
      "3\n",
      "4\n",
      "5\n"
     ]
    }
   ],
   "source": [
    "numbers = [1, 2, 3, 4, 5]\n",
    "\n",
    "for number in numbers:\n",
    "    print(number)"
   ]
  },
  {
   "cell_type": "code",
   "execution_count": 5,
   "id": "1fe00045-51b1-4115-9bac-047dabd72985",
   "metadata": {},
   "outputs": [
    {
     "name": "stdin",
     "output_type": "stream",
     "text": [
      "단어를 입력해주세요 :  apple\n"
     ]
    },
    {
     "name": "stdout",
     "output_type": "stream",
     "text": [
      "a\n",
      "p\n",
      "p\n",
      "l\n",
      "e\n"
     ]
    }
   ],
   "source": [
    "word = input('단어를 입력해주세요 : ')\n",
    "\n",
    "for char in word:\n",
    "    print(char)"
   ]
  },
  {
   "cell_type": "code",
   "execution_count": 6,
   "id": "8581a029-3cff-480c-8c0d-4aacd94cedfd",
   "metadata": {},
   "outputs": [
    {
     "name": "stdout",
     "output_type": "stream",
     "text": [
      "0\n",
      "1\n",
      "2\n",
      "3\n",
      "4\n"
     ]
    }
   ],
   "source": [
    "for i in range(5):\n",
    "    print(i)"
   ]
  },
  {
   "cell_type": "code",
   "execution_count": 7,
   "id": "0ab455e0-6a64-4439-945b-20ae7bf511a4",
   "metadata": {},
   "outputs": [
    {
     "name": "stdout",
     "output_type": "stream",
     "text": [
      "1\n",
      "2\n",
      "3\n",
      "4\n",
      "5\n"
     ]
    }
   ],
   "source": [
    "for i in (1, 2, 3, 4, 5):\n",
    "    print(i)"
   ]
  },
  {
   "cell_type": "code",
   "execution_count": 14,
   "id": "634fb48c-5937-4188-aee0-048598c5b44e",
   "metadata": {},
   "outputs": [
    {
     "name": "stdout",
     "output_type": "stream",
     "text": [
      "1\n",
      "3\n",
      "5\n",
      "7\n",
      "9\n",
      "11\n",
      "13\n",
      "15\n",
      "17\n",
      "19\n",
      "21\n",
      "23\n",
      "25\n",
      "27\n",
      "29\n",
      "[1, 3, 5, 7, 9, 11, 13, 15, 17, 19, 21, 23, 25, 27, 29]\n"
     ]
    }
   ],
   "source": [
    "# 1. 1~30까지 숫자중에서 홀수를 출력\n",
    "# 2. 1~30까지 숫자중에서 홀수를 출력물을 모아서 리스트로 출력\n",
    "\n",
    "ran = range(1,31)\n",
    "result = []\n",
    "\n",
    "for ran in range(1,31):\n",
    "    if ran % 2 == 1:\n",
    "        print(ran)  \n",
    "        \n",
    "for ran in range(1,31):\n",
    "    if ran % 2 == 1:\n",
    "        result.append(ran)\n",
    "print(result)"
   ]
  },
  {
   "cell_type": "code",
   "execution_count": 18,
   "id": "bb2da0b3-382c-46e2-9cde-1a209983d013",
   "metadata": {},
   "outputs": [
    {
     "name": "stdout",
     "output_type": "stream",
     "text": [
      "라면\n",
      "김밥\n",
      "떡볶이\n",
      "돈까스\n"
     ]
    }
   ],
   "source": [
    "menus = ['라면', '김밥', '떡볶이','돈까스']\n",
    "#웹개발에서 자주 씀, 리스트의 길이가 변동되어도 유동적으로 사용 가능\n",
    "for menu in menus:\n",
    "    print(menu)"
   ]
  },
  {
   "cell_type": "code",
   "execution_count": 19,
   "id": "9ec1ec5f-82b7-4206-87f1-f980b5b3e275",
   "metadata": {},
   "outputs": [
    {
     "name": "stdout",
     "output_type": "stream",
     "text": [
      "라면\n",
      "김밥\n",
      "떡볶이\n"
     ]
    }
   ],
   "source": [
    "for i in range(3):\n",
    "    print(menus[i])\n",
    "#알고리즘에서 많이 씀"
   ]
  },
  {
   "cell_type": "code",
   "execution_count": 20,
   "id": "8b2a9b11-1801-4e05-9cf6-6d13411027db",
   "metadata": {},
   "outputs": [
    {
     "name": "stdout",
     "output_type": "stream",
     "text": [
      "라면\n",
      "김밥\n",
      "떡볶이\n",
      "돈까스\n"
     ]
    }
   ],
   "source": [
    "for i in range(len(menus)):\n",
    "    print(menus[i])\n",
    "#위의 방법에서 리스트의 길이에 제한이 없게 len 함수 활용"
   ]
  },
  {
   "cell_type": "code",
   "execution_count": 21,
   "id": "af3df1e4-9686-461b-b0e8-a74b1de8777e",
   "metadata": {},
   "outputs": [
    {
     "data": {
      "text/plain": [
       "<enumerate at 0x1ec19241000>"
      ]
     },
     "execution_count": 21,
     "metadata": {},
     "output_type": "execute_result"
    }
   ],
   "source": [
    "enumerate(menus) #시퀀스 값을 반복문을 돌릴 수 있도록 해주는 함수 (튜플로 출력)"
   ]
  },
  {
   "cell_type": "code",
   "execution_count": 22,
   "id": "8f921b52-0c22-4af0-af46-921c501c120c",
   "metadata": {},
   "outputs": [
    {
     "name": "stdout",
     "output_type": "stream",
     "text": [
      "(0, '라면')\n",
      "(1, '김밥')\n",
      "(2, '떡볶이')\n",
      "(3, '돈까스')\n"
     ]
    }
   ],
   "source": [
    "for item in enumerate(menus):\n",
    "    print(item)"
   ]
  },
  {
   "cell_type": "code",
   "execution_count": 23,
   "id": "c601ff83-d9a2-499c-8796-3fbfd3808745",
   "metadata": {},
   "outputs": [
    {
     "name": "stdout",
     "output_type": "stream",
     "text": [
      "0 라면\n",
      "1 김밥\n",
      "2 떡볶이\n",
      "3 돈까스\n"
     ]
    }
   ],
   "source": [
    "for index, menu in enumerate(menus):\n",
    "    print(index, menu)"
   ]
  },
  {
   "cell_type": "markdown",
   "id": "e7b3780f-18b6-4cb6-b717-3c01f6dc8e8b",
   "metadata": {},
   "source": [
    "#### dictionary 반복\n",
    "\n",
    "1. for key in dict:\n",
    "2. for key in dict,keys():\n",
    "3. for value in dict.values():\n",
    "4. for key, value in dict,items():"
   ]
  },
  {
   "cell_type": "code",
   "execution_count": 24,
   "id": "d8f4631a-d175-4850-9996-c4a037c0b91a",
   "metadata": {},
   "outputs": [],
   "source": [
    "info = {\n",
    "    'name': 'wonyoung',\n",
    "    'location': 'seoul',\n",
    "    'phone': '010-1234-1234'\n",
    "}"
   ]
  },
  {
   "cell_type": "code",
   "execution_count": 27,
   "id": "6600a6df-c5f4-4946-8f6d-4db00ec87a46",
   "metadata": {},
   "outputs": [
    {
     "name": "stdout",
     "output_type": "stream",
     "text": [
      "name\n",
      "wonyoung\n",
      "location\n",
      "seoul\n",
      "phone\n",
      "010-1234-1234\n"
     ]
    }
   ],
   "source": [
    "for key in info:\n",
    "    print(key)\n",
    "    print(info[key])"
   ]
  },
  {
   "cell_type": "code",
   "execution_count": 28,
   "id": "9187d806-1a84-485e-94cd-873afdb5666a",
   "metadata": {},
   "outputs": [],
   "source": [
    "blood_type = {\n",
    "    'A':5,\n",
    "    'B':4,\n",
    "    'O':2,\n",
    "    'AB': 3,    \n",
    "}"
   ]
  },
  {
   "cell_type": "code",
   "execution_count": 30,
   "id": "26c08670-dcb5-4f2c-abcc-7ba5f365ae6c",
   "metadata": {},
   "outputs": [
    {
     "name": "stdout",
     "output_type": "stream",
     "text": [
      "혈액형 목록은 다음과 같습니다.\n",
      "A\n",
      "B\n",
      "O\n",
      "AB\n"
     ]
    }
   ],
   "source": [
    "print('혈액형 목록은 다음과 같습니다.')\n",
    "for key in blood_type:\n",
    "    print(key)"
   ]
  },
  {
   "cell_type": "code",
   "execution_count": 31,
   "id": "22d3312b-bcb3-4c4c-8497-d2725ddcfb3a",
   "metadata": {},
   "outputs": [
    {
     "name": "stdout",
     "output_type": "stream",
     "text": [
      "혈액형 목록은 다음과 같습니다.\n",
      "A\n",
      "B\n",
      "O\n",
      "AB\n"
     ]
    }
   ],
   "source": [
    "print('혈액형 목록은 다음과 같습니다.')\n",
    "for key in blood_type.keys(): #좀 더 직관적이다.\n",
    "    print(key)"
   ]
  },
  {
   "cell_type": "code",
   "execution_count": 36,
   "id": "e444f59a-fa38-466c-b914-d623be8fe3a3",
   "metadata": {},
   "outputs": [
    {
     "name": "stdout",
     "output_type": "stream",
     "text": [
      "총 인원은 14명입니다.\n"
     ]
    }
   ],
   "source": [
    "result = 0\n",
    "\n",
    "for value in blood_type.values():\n",
    "    #print(value)\n",
    "    result = result + value\n",
    "    #result =+ value\n",
    "\n",
    "print(f'총 인원은 {result}명입니다.')"
   ]
  },
  {
   "cell_type": "code",
   "execution_count": 44,
   "id": "0ebebdd7-3aa2-49f7-8840-ae465ceef44a",
   "metadata": {},
   "outputs": [
    {
     "name": "stdout",
     "output_type": "stream",
     "text": [
      "A형은 5명입니다.\n",
      "B형은 4명입니다.\n",
      "O형은 2명입니다.\n",
      "AB형은 3명입니다.\n"
     ]
    }
   ],
   "source": [
    "for key, value in blood_type.items():\n",
    "    print(f'{key}형은 {value}명입니다.')"
   ]
  },
  {
   "cell_type": "markdown",
   "id": "b903a26e-bae1-4e02-bb48-62f77f8707df",
   "metadata": {},
   "source": [
    "### break\n",
    "반복문을 종료시키는 키워드\n",
    "자신과 가장 가까운 for문과 연계"
   ]
  },
  {
   "cell_type": "code",
   "execution_count": 47,
   "id": "1040388d-c018-4151-83e9-7723cef37556",
   "metadata": {},
   "outputs": [
    {
     "name": "stdout",
     "output_type": "stream",
     "text": [
      "0\n",
      "1\n",
      "2\n",
      "3\n",
      "4\n",
      "5\n",
      "6\n",
      "7\n",
      "8\n",
      "9\n",
      "10\n",
      "11\n",
      "10넘었어!!!\n"
     ]
    }
   ],
   "source": [
    "for i in range(100):\n",
    "    print(i)\n",
    "    if i > 10:\n",
    "        print('10넘었어!!!')\n",
    "        break"
   ]
  },
  {
   "cell_type": "code",
   "execution_count": 48,
   "id": "91fac03b-1c6f-4bb0-8171-27b883d33250",
   "metadata": {},
   "outputs": [
    {
     "name": "stdout",
     "output_type": "stream",
     "text": [
      "보리\n",
      "보리\n",
      "보리\n",
      "보리\n",
      "보리\n",
      "쌀\n",
      "잡았다!\n"
     ]
    }
   ],
   "source": [
    "rice = ['보리','보리','보리','보리','보리','쌀','보리','보리','보리','보리','보리']\n",
    "# 보리 보리 보리 보리 쌀 잡았다!\n",
    "\n",
    "for r in rice:\n",
    "    print(r)\n",
    "    if r == '쌀':\n",
    "        print('잡았다!')\n",
    "        break"
   ]
  },
  {
   "cell_type": "markdown",
   "id": "f78b5304-a3c3-4860-b1d4-c2c47adc6ec3",
   "metadata": {},
   "source": [
    "#### continue\n",
    "continue 이후의 코드를 실행하지 않고 다음 반복을 실행\n",
    "원치 않는 데이터 추출을 skip 할 수 있는 함수"
   ]
  },
  {
   "cell_type": "code",
   "execution_count": 49,
   "id": "e7a5914b-63fd-4449-af6c-6627d09da8c3",
   "metadata": {},
   "outputs": [
    {
     "name": "stdout",
     "output_type": "stream",
     "text": [
      "0\n",
      "2\n",
      "4\n",
      "6\n",
      "8\n"
     ]
    }
   ],
   "source": [
    "for i in range(10):\n",
    "    if i % 2:\n",
    "        continue\n",
    "    print(i)"
   ]
  },
  {
   "cell_type": "code",
   "execution_count": 50,
   "id": "53528553-12f6-4943-9451-c28fc7b068ac",
   "metadata": {},
   "outputs": [
    {
     "name": "stdout",
     "output_type": "stream",
     "text": [
      "20살은 성인입니다.\n",
      "23살은 성인입니다.\n",
      "25살은 성인입니다.\n",
      "26살은 성인입니다.\n"
     ]
    }
   ],
   "source": [
    "age = [10, 20, 23, 25, 26]\n",
    "\n",
    "for a in age:\n",
    "    if a < 20:\n",
    "        continue\n",
    "    print(f'{a}살은 성인입니다.')"
   ]
  },
  {
   "cell_type": "markdown",
   "id": "6c316427-4cc6-45fe-8d96-4cb03eff7847",
   "metadata": {},
   "source": [
    "#### else\n",
    "else문은 끝까지 반복이 진행이 된 후 실행합니다. (break를 만나지 않은 경우)"
   ]
  },
  {
   "cell_type": "code",
   "execution_count": 53,
   "id": "02b565e0-52b8-43b3-aebe-bc448f1bd5dc",
   "metadata": {},
   "outputs": [
    {
     "name": "stdout",
     "output_type": "stream",
     "text": [
      "0\n",
      "1\n",
      "2\n",
      "3\n",
      "4\n",
      "5\n",
      "6\n",
      "7\n",
      "8\n",
      "9\n",
      "break 못만남\n"
     ]
    }
   ],
   "source": [
    "for i in range(10):\n",
    "    print(i)\n",
    "    if i > 10:\n",
    "        break\n",
    "\n",
    "else:\n",
    "    print('break 못만남')"
   ]
  },
  {
   "cell_type": "code",
   "execution_count": 54,
   "id": "228bcc97-0953-4f6a-b23c-636822d1608e",
   "metadata": {},
   "outputs": [
    {
     "name": "stdout",
     "output_type": "stream",
     "text": [
      "True\n",
      "False\n"
     ]
    }
   ],
   "source": [
    "numbers = [1, 2, 3, 4, 5]\n",
    "print(1 in numbers)\n",
    "print(99 in numbers)"
   ]
  },
  {
   "cell_type": "code",
   "execution_count": 63,
   "id": "dda560f9-96cc-4e0a-8703-166a5773c333",
   "metadata": {},
   "outputs": [
    {
     "name": "stdout",
     "output_type": "stream",
     "text": [
      "False\n",
      "False\n",
      "True\n"
     ]
    }
   ],
   "source": [
    "numbers = [1,2,3,4,5]\n",
    "target = 3\n",
    "\n",
    "for number in numbers:\n",
    "    if number == target:\n",
    "        print('True')\n",
    "        break\n",
    "    else:\n",
    "        print('False')\n",
    "\n",
    "    \n",
    "#numbers를 반복하다 target 이 있으면 true출력, 없으면 false 출력"
   ]
  },
  {
   "cell_type": "code",
   "execution_count": 64,
   "id": "334ee798-82a1-45d9-a547-aa7dcbff96a5",
   "metadata": {},
   "outputs": [
    {
     "name": "stdout",
     "output_type": "stream",
     "text": [
      "False\n",
      "False\n",
      "False\n",
      "False\n",
      "False\n"
     ]
    }
   ],
   "source": [
    "numbers = [1,2,3,4,5]\n",
    "target = 10 #원하는 타겟이 없을 경우\n",
    "\n",
    "for number in numbers:\n",
    "    if number == target:\n",
    "        print('True')\n",
    "        break\n",
    "    else:\n",
    "        print('False')\n",
    "\n",
    "    \n",
    "#numbers를 반복하다 target 이 있으면 true출력, 없으면 false 출력"
   ]
  },
  {
   "cell_type": "markdown",
   "id": "a48a54a1-14db-4e92-8f5f-eee2cc421e85",
   "metadata": {},
   "source": [
    "#### pass : 임시로 구조만 채워두고, 추후에 구현할 때 수정 가능하게 해주는 함수"
   ]
  },
  {
   "cell_type": "code",
   "execution_count": null,
   "id": "6681ec40-c61c-45b8-ae98-579b002557fe",
   "metadata": {},
   "outputs": [],
   "source": [
    "if True:\n",
    "    pass"
   ]
  },
  {
   "cell_type": "code",
   "execution_count": 65,
   "id": "61639a6a-db32-491a-89f9-fdf78cc0c55e",
   "metadata": {},
   "outputs": [],
   "source": [
    "def login():\n",
    "    pass\n",
    "\n",
    "def logout():\n",
    "    pass"
   ]
  },
  {
   "cell_type": "markdown",
   "id": "01340c6d-8c2c-4841-9271-a925996ead64",
   "metadata": {},
   "source": [
    "### match\n",
    "```python\n",
    "match value:\n",
    "    case 조건:\n",
    "        실행할 코드\n",
    "    case 조건:\n",
    "        실행할 코드\n",
    "    case _:\n",
    "        실행할 코드"
   ]
  },
  {
   "cell_type": "code",
   "execution_count": 68,
   "id": "b1aaaae8-0a7b-498c-a50a-f62f35d846ca",
   "metadata": {},
   "outputs": [
    {
     "name": "stdout",
     "output_type": "stream",
     "text": [
      "something is wrong\n"
     ]
    }
   ],
   "source": [
    "status = 500\n",
    "\n",
    "match status:\n",
    "    case 400:\n",
    "        print('bad request')\n",
    "    case 404:\n",
    "        print('not found')\n",
    "    case _:\n",
    "        print('something is wrong')"
   ]
  },
  {
   "cell_type": "code",
   "execution_count": null,
   "id": "6e710228-7bb4-4591-a6eb-b3831a3897a6",
   "metadata": {},
   "outputs": [],
   "source": []
  },
  {
   "cell_type": "code",
   "execution_count": null,
   "id": "cce090c7-91e6-41d6-82a4-f19f6dde6ded",
   "metadata": {},
   "outputs": [],
   "source": []
  }
 ],
 "metadata": {
  "kernelspec": {
   "display_name": "Python 3 (ipykernel)",
   "language": "python",
   "name": "python3"
  },
  "language_info": {
   "codemirror_mode": {
    "name": "ipython",
    "version": 3
   },
   "file_extension": ".py",
   "mimetype": "text/x-python",
   "name": "python",
   "nbconvert_exporter": "python",
   "pygments_lexer": "ipython3",
   "version": "3.10.8"
  }
 },
 "nbformat": 4,
 "nbformat_minor": 5
}
